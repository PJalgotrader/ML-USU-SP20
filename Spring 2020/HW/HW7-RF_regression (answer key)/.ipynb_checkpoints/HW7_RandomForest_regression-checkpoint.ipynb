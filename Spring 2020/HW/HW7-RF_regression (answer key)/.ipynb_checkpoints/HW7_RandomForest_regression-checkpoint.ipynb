{
 "cells": [
  {
   "cell_type": "markdown",
   "metadata": {},
   "source": [
    "\n",
    "## HW7 (answer key)\n",
    "### [NYC property sales](https://www.kaggle.com/new-york-city/nyc-property-sales) : Random Forest Regression model \n",
    "\n",
    "Instructor: [Pedram Jahangiry](https://github.com/PJalgotrader) "
   ]
  },
  {
   "cell_type": "code",
   "execution_count": 1,
   "metadata": {},
   "outputs": [],
   "source": [
    "import numpy as np\n",
    "import pandas as pd\n",
    "import matplotlib.pyplot as plt\n",
    "import seaborn as sns\n",
    "\n",
    "\n",
    "sns.set()  "
   ]
  },
  {
   "cell_type": "code",
   "execution_count": 2,
   "metadata": {},
   "outputs": [],
   "source": [
    "rand_state= 1000"
   ]
  },
  {
   "cell_type": "markdown",
   "metadata": {},
   "source": [
    "### Data Preprocessing"
   ]
  },
  {
   "cell_type": "code",
   "execution_count": 3,
   "metadata": {},
   "outputs": [
    {
     "data": {
      "text/html": [
       "<div>\n",
       "<style scoped>\n",
       "    .dataframe tbody tr th:only-of-type {\n",
       "        vertical-align: middle;\n",
       "    }\n",
       "\n",
       "    .dataframe tbody tr th {\n",
       "        vertical-align: top;\n",
       "    }\n",
       "\n",
       "    .dataframe thead th {\n",
       "        text-align: right;\n",
       "    }\n",
       "</style>\n",
       "<table border=\"1\" class=\"dataframe\">\n",
       "  <thead>\n",
       "    <tr style=\"text-align: right;\">\n",
       "      <th></th>\n",
       "      <th>BOROUGH</th>\n",
       "      <th>NEIGHBORHOOD</th>\n",
       "      <th>BUILDING CLASS CATEGORY</th>\n",
       "      <th>TAX CLASS AT PRESENT</th>\n",
       "      <th>BUILDING CLASS AT PRESENT</th>\n",
       "      <th>ZIP CODE</th>\n",
       "      <th>RESIDENTIAL UNITS</th>\n",
       "      <th>COMMERCIAL UNITS</th>\n",
       "      <th>TOTAL UNITS</th>\n",
       "      <th>LAND SQUARE FEET</th>\n",
       "      <th>GROSS SQUARE FEET</th>\n",
       "      <th>YEAR BUILT</th>\n",
       "      <th>TAX CLASS AT TIME OF SALE</th>\n",
       "      <th>BUILDING CLASS AT TIME OF SALE</th>\n",
       "      <th>SALE PRICE</th>\n",
       "      <th>SALE DATE</th>\n",
       "      <th>sale_year</th>\n",
       "      <th>sale_month</th>\n",
       "    </tr>\n",
       "  </thead>\n",
       "  <tbody>\n",
       "    <tr>\n",
       "      <th>0</th>\n",
       "      <td>Manhattan</td>\n",
       "      <td>ALPHABET CITY</td>\n",
       "      <td>07 RENTALS - WALKUP APARTMENTS</td>\n",
       "      <td>2B</td>\n",
       "      <td>C4</td>\n",
       "      <td>10009</td>\n",
       "      <td>10</td>\n",
       "      <td>0</td>\n",
       "      <td>10</td>\n",
       "      <td>2272.0</td>\n",
       "      <td>6794.0</td>\n",
       "      <td>1913</td>\n",
       "      <td>2</td>\n",
       "      <td>C4</td>\n",
       "      <td>3936272.0</td>\n",
       "      <td>2016-09-23</td>\n",
       "      <td>2016</td>\n",
       "      <td>9</td>\n",
       "    </tr>\n",
       "    <tr>\n",
       "      <th>1</th>\n",
       "      <td>Manhattan</td>\n",
       "      <td>ALPHABET CITY</td>\n",
       "      <td>07 RENTALS - WALKUP APARTMENTS</td>\n",
       "      <td>2B</td>\n",
       "      <td>C4</td>\n",
       "      <td>10009</td>\n",
       "      <td>8</td>\n",
       "      <td>0</td>\n",
       "      <td>8</td>\n",
       "      <td>1750.0</td>\n",
       "      <td>4226.0</td>\n",
       "      <td>1920</td>\n",
       "      <td>2</td>\n",
       "      <td>C4</td>\n",
       "      <td>3192840.0</td>\n",
       "      <td>2016-09-23</td>\n",
       "      <td>2016</td>\n",
       "      <td>9</td>\n",
       "    </tr>\n",
       "    <tr>\n",
       "      <th>2</th>\n",
       "      <td>Manhattan</td>\n",
       "      <td>ALPHABET CITY</td>\n",
       "      <td>14 RENTALS - 4-10 UNIT</td>\n",
       "      <td>2A</td>\n",
       "      <td>S3</td>\n",
       "      <td>10009</td>\n",
       "      <td>3</td>\n",
       "      <td>1</td>\n",
       "      <td>4</td>\n",
       "      <td>1520.0</td>\n",
       "      <td>3360.0</td>\n",
       "      <td>1910</td>\n",
       "      <td>2</td>\n",
       "      <td>S3</td>\n",
       "      <td>3300000.0</td>\n",
       "      <td>2016-11-15</td>\n",
       "      <td>2016</td>\n",
       "      <td>11</td>\n",
       "    </tr>\n",
       "    <tr>\n",
       "      <th>3</th>\n",
       "      <td>Manhattan</td>\n",
       "      <td>ALPHABET CITY</td>\n",
       "      <td>22 STORE BUILDINGS</td>\n",
       "      <td>4</td>\n",
       "      <td>K4</td>\n",
       "      <td>10009</td>\n",
       "      <td>0</td>\n",
       "      <td>1</td>\n",
       "      <td>1</td>\n",
       "      <td>1218.0</td>\n",
       "      <td>3586.0</td>\n",
       "      <td>1899</td>\n",
       "      <td>4</td>\n",
       "      <td>K4</td>\n",
       "      <td>3700000.0</td>\n",
       "      <td>2016-09-28</td>\n",
       "      <td>2016</td>\n",
       "      <td>9</td>\n",
       "    </tr>\n",
       "    <tr>\n",
       "      <th>4</th>\n",
       "      <td>Manhattan</td>\n",
       "      <td>CHELSEA</td>\n",
       "      <td>07 RENTALS - WALKUP APARTMENTS</td>\n",
       "      <td>2B</td>\n",
       "      <td>C4</td>\n",
       "      <td>10011</td>\n",
       "      <td>9</td>\n",
       "      <td>0</td>\n",
       "      <td>9</td>\n",
       "      <td>1566.0</td>\n",
       "      <td>6330.0</td>\n",
       "      <td>1901</td>\n",
       "      <td>2</td>\n",
       "      <td>C4</td>\n",
       "      <td>1583840.0</td>\n",
       "      <td>2017-08-31</td>\n",
       "      <td>2017</td>\n",
       "      <td>8</td>\n",
       "    </tr>\n",
       "  </tbody>\n",
       "</table>\n",
       "</div>"
      ],
      "text/plain": [
       "     BOROUGH   NEIGHBORHOOD                      BUILDING CLASS CATEGORY  \\\n",
       "0  Manhattan  ALPHABET CITY  07 RENTALS - WALKUP APARTMENTS                \n",
       "1  Manhattan  ALPHABET CITY  07 RENTALS - WALKUP APARTMENTS                \n",
       "2  Manhattan  ALPHABET CITY  14 RENTALS - 4-10 UNIT                        \n",
       "3  Manhattan  ALPHABET CITY  22 STORE BUILDINGS                            \n",
       "4  Manhattan        CHELSEA  07 RENTALS - WALKUP APARTMENTS                \n",
       "\n",
       "  TAX CLASS AT PRESENT BUILDING CLASS AT PRESENT  ZIP CODE  RESIDENTIAL UNITS  \\\n",
       "0                   2B                        C4     10009                 10   \n",
       "1                   2B                        C4     10009                  8   \n",
       "2                   2A                        S3     10009                  3   \n",
       "3                    4                        K4     10009                  0   \n",
       "4                   2B                        C4     10011                  9   \n",
       "\n",
       "   COMMERCIAL UNITS  TOTAL UNITS  LAND SQUARE FEET  GROSS SQUARE FEET  \\\n",
       "0                 0           10            2272.0             6794.0   \n",
       "1                 0            8            1750.0             4226.0   \n",
       "2                 1            4            1520.0             3360.0   \n",
       "3                 1            1            1218.0             3586.0   \n",
       "4                 0            9            1566.0             6330.0   \n",
       "\n",
       "   YEAR BUILT  TAX CLASS AT TIME OF SALE BUILDING CLASS AT TIME OF SALE  \\\n",
       "0        1913                          2                             C4   \n",
       "1        1920                          2                             C4   \n",
       "2        1910                          2                             S3   \n",
       "3        1899                          4                             K4   \n",
       "4        1901                          2                             C4   \n",
       "\n",
       "   SALE PRICE   SALE DATE  sale_year  sale_month  \n",
       "0   3936272.0  2016-09-23       2016           9  \n",
       "1   3192840.0  2016-09-23       2016           9  \n",
       "2   3300000.0  2016-11-15       2016          11  \n",
       "3   3700000.0  2016-09-28       2016           9  \n",
       "4   1583840.0  2017-08-31       2017           8  "
      ]
     },
     "execution_count": 3,
     "metadata": {},
     "output_type": "execute_result"
    }
   ],
   "source": [
    "df = pd.read_csv(\"nyc-rolling-sales_clean.csv\")\n",
    "df.head()"
   ]
  },
  {
   "cell_type": "code",
   "execution_count": 4,
   "metadata": {},
   "outputs": [],
   "source": [
    "# constructing the numerical variables:\n",
    "numeric = [\"RESIDENTIAL UNITS\",\"COMMERCIAL UNITS\",\"TOTAL UNITS\", \"LAND SQUARE FEET\" , \"GROSS SQUARE FEET\",\"SALE PRICE\" ]\n",
    "\n",
    "for col in numeric: \n",
    "    df[col] = pd.to_numeric(df[col], errors='coerce') # coercing errors to NAs"
   ]
  },
  {
   "cell_type": "code",
   "execution_count": 5,
   "metadata": {},
   "outputs": [],
   "source": [
    "# constructing the categorical variables:\n",
    "categorical = [\"BOROUGH\",\"NEIGHBORHOOD\",'BUILDING CLASS CATEGORY', 'TAX CLASS AT PRESENT', 'BUILDING CLASS AT PRESENT','ZIP CODE', 'YEAR BUILT', 'BUILDING CLASS AT TIME OF SALE', 'TAX CLASS AT TIME OF SALE', 'sale_month']\n",
    "\n",
    "for col in categorical: \n",
    "    df[col] = df[col].astype(\"category\").cat.codes"
   ]
  },
  {
   "cell_type": "code",
   "execution_count": 6,
   "metadata": {},
   "outputs": [
    {
     "data": {
      "text/plain": [
       "['BOROUGH',\n",
       " 'NEIGHBORHOOD',\n",
       " 'BUILDING CLASS CATEGORY',\n",
       " 'TAX CLASS AT PRESENT',\n",
       " 'BUILDING CLASS AT PRESENT',\n",
       " 'ZIP CODE',\n",
       " 'RESIDENTIAL UNITS',\n",
       " 'COMMERCIAL UNITS',\n",
       " 'TOTAL UNITS',\n",
       " 'LAND SQUARE FEET',\n",
       " 'GROSS SQUARE FEET',\n",
       " 'YEAR BUILT',\n",
       " 'TAX CLASS AT TIME OF SALE',\n",
       " 'BUILDING CLASS AT TIME OF SALE',\n",
       " 'SALE PRICE',\n",
       " 'SALE DATE',\n",
       " 'sale_year',\n",
       " 'sale_month']"
      ]
     },
     "execution_count": 6,
     "metadata": {},
     "output_type": "execute_result"
    }
   ],
   "source": [
    "list(df.columns)"
   ]
  },
  {
   "cell_type": "code",
   "execution_count": 7,
   "metadata": {},
   "outputs": [],
   "source": [
    "# Let's drop the variables that we don't use in our linear regression model\n",
    "\n",
    "df = df.drop(['sale_year','SALE DATE','TOTAL UNITS'], axis=1)"
   ]
  },
  {
   "cell_type": "code",
   "execution_count": 8,
   "metadata": {},
   "outputs": [
    {
     "name": "stdout",
     "output_type": "stream",
     "text": [
      "<class 'pandas.core.frame.DataFrame'>\n",
      "RangeIndex: 30236 entries, 0 to 30235\n",
      "Data columns (total 15 columns):\n",
      "BOROUGH                           30236 non-null int8\n",
      "NEIGHBORHOOD                      30236 non-null int16\n",
      "BUILDING CLASS CATEGORY           30236 non-null int8\n",
      "TAX CLASS AT PRESENT              30236 non-null int8\n",
      "BUILDING CLASS AT PRESENT         30236 non-null int8\n",
      "ZIP CODE                          30236 non-null int16\n",
      "RESIDENTIAL UNITS                 30236 non-null int64\n",
      "COMMERCIAL UNITS                  30236 non-null int64\n",
      "LAND SQUARE FEET                  30236 non-null float64\n",
      "GROSS SQUARE FEET                 30236 non-null float64\n",
      "YEAR BUILT                        30236 non-null int16\n",
      "TAX CLASS AT TIME OF SALE         30236 non-null int8\n",
      "BUILDING CLASS AT TIME OF SALE    30236 non-null int8\n",
      "SALE PRICE                        30236 non-null float64\n",
      "sale_month                        30236 non-null int8\n",
      "dtypes: float64(3), int16(3), int64(2), int8(7)\n",
      "memory usage: 1.5 MB\n"
     ]
    }
   ],
   "source": [
    "df.info()"
   ]
  },
  {
   "cell_type": "code",
   "execution_count": 9,
   "metadata": {},
   "outputs": [
    {
     "data": {
      "text/plain": [
       "BOROUGH                           0.0\n",
       "NEIGHBORHOOD                      0.0\n",
       "BUILDING CLASS CATEGORY           0.0\n",
       "TAX CLASS AT PRESENT              0.0\n",
       "BUILDING CLASS AT PRESENT         0.0\n",
       "ZIP CODE                          0.0\n",
       "RESIDENTIAL UNITS                 0.0\n",
       "COMMERCIAL UNITS                  0.0\n",
       "LAND SQUARE FEET                  0.0\n",
       "GROSS SQUARE FEET                 0.0\n",
       "YEAR BUILT                        0.0\n",
       "TAX CLASS AT TIME OF SALE         0.0\n",
       "BUILDING CLASS AT TIME OF SALE    0.0\n",
       "SALE PRICE                        0.0\n",
       "sale_month                        0.0\n",
       "dtype: float64"
      ]
     },
     "execution_count": 9,
     "metadata": {},
     "output_type": "execute_result"
    }
   ],
   "source": [
    "df.isnull().sum() / len(df)\n",
    "# Alternatively we could use isnull() from pandas. \n",
    "# pd.isnull(df).sum() "
   ]
  },
  {
   "cell_type": "markdown",
   "metadata": {},
   "source": [
    "### Plotting the NA values"
   ]
  },
  {
   "cell_type": "code",
   "execution_count": 10,
   "metadata": {},
   "outputs": [
    {
     "data": {
      "text/plain": [
       "<matplotlib.axes._subplots.AxesSubplot at 0x1107d61dcc0>"
      ]
     },
     "execution_count": 10,
     "metadata": {},
     "output_type": "execute_result"
    },
    {
     "data": {
      "image/png": "[encoded data removed]",
      "text/plain": [
       "<Figure size 720x504 with 1 Axes>"
      ]
     },
     "metadata": {
      "needs_background": "light"
     },
     "output_type": "display_data"
    }
   ],
   "source": [
    "plt.figure(figsize=(10,7))\n",
    "sns.heatmap(df.isnull(),yticklabels=False,cbar=False,cmap='viridis')"
   ]
  },
  {
   "cell_type": "markdown",
   "metadata": {},
   "source": [
    "### Defining the variables and splitting the data"
   ]
  },
  {
   "cell_type": "code",
   "execution_count": 11,
   "metadata": {},
   "outputs": [
    {
     "data": {
      "text/plain": [
       "(30236, 15)"
      ]
     },
     "execution_count": 11,
     "metadata": {},
     "output_type": "execute_result"
    }
   ],
   "source": [
    "df.shape"
   ]
  },
  {
   "cell_type": "code",
   "execution_count": 12,
   "metadata": {},
   "outputs": [],
   "source": [
    "df['lsales']=np.log(df['SALE PRICE'])"
   ]
  },
  {
   "cell_type": "code",
   "execution_count": 13,
   "metadata": {},
   "outputs": [],
   "source": [
    "y = df['lsales']\n",
    "X = df.drop(['lsales','SALE PRICE'], axis=1) # becareful inplace= False\n",
    "\n",
    "from sklearn.model_selection import train_test_split\n",
    "X_train, X_test, y_train, y_test = train_test_split(X, y, test_size=0.2, random_state=rand_state)"
   ]
  },
  {
   "cell_type": "code",
   "execution_count": 14,
   "metadata": {},
   "outputs": [
    {
     "data": {
      "text/html": [
       "<div>\n",
       "<style scoped>\n",
       "    .dataframe tbody tr th:only-of-type {\n",
       "        vertical-align: middle;\n",
       "    }\n",
       "\n",
       "    .dataframe tbody tr th {\n",
       "        vertical-align: top;\n",
       "    }\n",
       "\n",
       "    .dataframe thead th {\n",
       "        text-align: right;\n",
       "    }\n",
       "</style>\n",
       "<table border=\"1\" class=\"dataframe\">\n",
       "  <thead>\n",
       "    <tr style=\"text-align: right;\">\n",
       "      <th></th>\n",
       "      <th>BOROUGH</th>\n",
       "      <th>NEIGHBORHOOD</th>\n",
       "      <th>BUILDING CLASS CATEGORY</th>\n",
       "      <th>TAX CLASS AT PRESENT</th>\n",
       "      <th>BUILDING CLASS AT PRESENT</th>\n",
       "      <th>ZIP CODE</th>\n",
       "      <th>RESIDENTIAL UNITS</th>\n",
       "      <th>COMMERCIAL UNITS</th>\n",
       "      <th>LAND SQUARE FEET</th>\n",
       "      <th>GROSS SQUARE FEET</th>\n",
       "      <th>YEAR BUILT</th>\n",
       "      <th>TAX CLASS AT TIME OF SALE</th>\n",
       "      <th>BUILDING CLASS AT TIME OF SALE</th>\n",
       "      <th>sale_month</th>\n",
       "    </tr>\n",
       "  </thead>\n",
       "  <tbody>\n",
       "    <tr>\n",
       "      <th>15308</th>\n",
       "      <td>3</td>\n",
       "      <td>12</td>\n",
       "      <td>0</td>\n",
       "      <td>0</td>\n",
       "      <td>100</td>\n",
       "      <td>127</td>\n",
       "      <td>1</td>\n",
       "      <td>1</td>\n",
       "      <td>2500.0</td>\n",
       "      <td>1024.0</td>\n",
       "      <td>49</td>\n",
       "      <td>0</td>\n",
       "      <td>100</td>\n",
       "      <td>2</td>\n",
       "    </tr>\n",
       "    <tr>\n",
       "      <th>30014</th>\n",
       "      <td>4</td>\n",
       "      <td>228</td>\n",
       "      <td>1</td>\n",
       "      <td>0</td>\n",
       "      <td>10</td>\n",
       "      <td>46</td>\n",
       "      <td>2</td>\n",
       "      <td>0</td>\n",
       "      <td>4800.0</td>\n",
       "      <td>2268.0</td>\n",
       "      <td>39</td>\n",
       "      <td>0</td>\n",
       "      <td>10</td>\n",
       "      <td>10</td>\n",
       "    </tr>\n",
       "    <tr>\n",
       "      <th>22437</th>\n",
       "      <td>3</td>\n",
       "      <td>188</td>\n",
       "      <td>2</td>\n",
       "      <td>0</td>\n",
       "      <td>13</td>\n",
       "      <td>170</td>\n",
       "      <td>3</td>\n",
       "      <td>0</td>\n",
       "      <td>4000.0</td>\n",
       "      <td>2075.0</td>\n",
       "      <td>48</td>\n",
       "      <td>0</td>\n",
       "      <td>13</td>\n",
       "      <td>0</td>\n",
       "    </tr>\n",
       "    <tr>\n",
       "      <th>14045</th>\n",
       "      <td>1</td>\n",
       "      <td>232</td>\n",
       "      <td>1</td>\n",
       "      <td>0</td>\n",
       "      <td>12</td>\n",
       "      <td>87</td>\n",
       "      <td>2</td>\n",
       "      <td>0</td>\n",
       "      <td>1310.0</td>\n",
       "      <td>1500.0</td>\n",
       "      <td>39</td>\n",
       "      <td>0</td>\n",
       "      <td>12</td>\n",
       "      <td>11</td>\n",
       "    </tr>\n",
       "    <tr>\n",
       "      <th>29096</th>\n",
       "      <td>4</td>\n",
       "      <td>202</td>\n",
       "      <td>0</td>\n",
       "      <td>0</td>\n",
       "      <td>1</td>\n",
       "      <td>39</td>\n",
       "      <td>1</td>\n",
       "      <td>0</td>\n",
       "      <td>2821.0</td>\n",
       "      <td>920.0</td>\n",
       "      <td>39</td>\n",
       "      <td>0</td>\n",
       "      <td>1</td>\n",
       "      <td>8</td>\n",
       "    </tr>\n",
       "  </tbody>\n",
       "</table>\n",
       "</div>"
      ],
      "text/plain": [
       "       BOROUGH  NEIGHBORHOOD  BUILDING CLASS CATEGORY  TAX CLASS AT PRESENT  \\\n",
       "15308        3            12                        0                     0   \n",
       "30014        4           228                        1                     0   \n",
       "22437        3           188                        2                     0   \n",
       "14045        1           232                        1                     0   \n",
       "29096        4           202                        0                     0   \n",
       "\n",
       "       BUILDING CLASS AT PRESENT  ZIP CODE  RESIDENTIAL UNITS  \\\n",
       "15308                        100       127                  1   \n",
       "30014                         10        46                  2   \n",
       "22437                         13       170                  3   \n",
       "14045                         12        87                  2   \n",
       "29096                          1        39                  1   \n",
       "\n",
       "       COMMERCIAL UNITS  LAND SQUARE FEET  GROSS SQUARE FEET  YEAR BUILT  \\\n",
       "15308                 1            2500.0             1024.0          49   \n",
       "30014                 0            4800.0             2268.0          39   \n",
       "22437                 0            4000.0             2075.0          48   \n",
       "14045                 0            1310.0             1500.0          39   \n",
       "29096                 0            2821.0              920.0          39   \n",
       "\n",
       "       TAX CLASS AT TIME OF SALE  BUILDING CLASS AT TIME OF SALE  sale_month  \n",
       "15308                          0                             100           2  \n",
       "30014                          0                              10          10  \n",
       "22437                          0                              13           0  \n",
       "14045                          0                              12          11  \n",
       "29096                          0                               1           8  "
      ]
     },
     "execution_count": 14,
     "metadata": {},
     "output_type": "execute_result"
    }
   ],
   "source": [
    "X_train.head()"
   ]
  },
  {
   "cell_type": "markdown",
   "metadata": {},
   "source": [
    "## Random Forest Regression with Scikit-Learn"
   ]
  },
  {
   "cell_type": "code",
   "execution_count": 15,
   "metadata": {},
   "outputs": [],
   "source": [
    "from sklearn.ensemble import RandomForestRegressor"
   ]
  },
  {
   "cell_type": "code",
   "execution_count": 16,
   "metadata": {},
   "outputs": [
    {
     "data": {
      "text/plain": [
       "RandomForestRegressor(bootstrap=True, criterion='mse', max_depth=None,\n",
       "                      max_features='sqrt', max_leaf_nodes=None,\n",
       "                      min_impurity_decrease=0.0, min_impurity_split=None,\n",
       "                      min_samples_leaf=1, min_samples_split=2,\n",
       "                      min_weight_fraction_leaf=0.0, n_estimators=100,\n",
       "                      n_jobs=None, oob_score=False, random_state=100, verbose=0,\n",
       "                      warm_start=False)"
      ]
     },
     "execution_count": 16,
     "metadata": {},
     "output_type": "execute_result"
    }
   ],
   "source": [
    "RF_regressor = RandomForestRegressor(n_estimators = 100, max_features='sqrt', random_state=100)\n",
    "RF_regressor.fit(X_train, y_train)"
   ]
  },
  {
   "cell_type": "code",
   "execution_count": 17,
   "metadata": {},
   "outputs": [],
   "source": [
    "# Predicting the Test set results\n",
    "y_pred_test = RF_regressor.predict(X_test)"
   ]
  },
  {
   "cell_type": "markdown",
   "metadata": {},
   "source": [
    "###  Evaluating the Random Forests Regression model on test dataset¶\n"
   ]
  },
  {
   "cell_type": "markdown",
   "metadata": {},
   "source": [
    "## Question 1: \n",
    "1- Use RandomForestRegressor() model from Sklearn package and report the RMSE_te (RMSE of the test set) of your model. Note that since y_test is observable, you don't need to estimate this number using CV."
   ]
  },
  {
   "cell_type": "code",
   "execution_count": 18,
   "metadata": {},
   "outputs": [
    {
     "data": {
      "text/plain": [
       "0.25"
      ]
     },
     "execution_count": 18,
     "metadata": {},
     "output_type": "execute_result"
    }
   ],
   "source": [
    "MSE_test = round(np.mean(np.square(y_test - y_pred_test)),2)\n",
    "MSE_test"
   ]
  },
  {
   "cell_type": "code",
   "execution_count": 19,
   "metadata": {},
   "outputs": [
    {
     "data": {
      "text/plain": [
       "0.5"
      ]
     },
     "execution_count": 19,
     "metadata": {},
     "output_type": "execute_result"
    }
   ],
   "source": [
    "RMSE_test = round(np.sqrt(MSE_test),2)\n",
    "RMSE_test"
   ]
  },
  {
   "cell_type": "markdown",
   "metadata": {},
   "source": [
    "## Extra: \n",
    "Let's sstimate the RMSE_te using K-Fold Cross Validation technique (try K=5 and K=10). Compare this RMSE_CV with the RMSE_te from part 1."
   ]
  },
  {
   "cell_type": "code",
   "execution_count": 20,
   "metadata": {},
   "outputs": [],
   "source": [
    "from sklearn.model_selection import cross_val_score\n",
    "import sklearn.metrics"
   ]
  },
  {
   "cell_type": "code",
   "execution_count": 21,
   "metadata": {},
   "outputs": [
    {
     "data": {
      "text/html": [
       "<div>\n",
       "<style scoped>\n",
       "    .dataframe tbody tr th:only-of-type {\n",
       "        vertical-align: middle;\n",
       "    }\n",
       "\n",
       "    .dataframe tbody tr th {\n",
       "        vertical-align: top;\n",
       "    }\n",
       "\n",
       "    .dataframe thead th {\n",
       "        text-align: right;\n",
       "    }\n",
       "</style>\n",
       "<table border=\"1\" class=\"dataframe\">\n",
       "  <thead>\n",
       "    <tr style=\"text-align: right;\">\n",
       "      <th></th>\n",
       "      <th>K</th>\n",
       "      <th>RMSE_CV</th>\n",
       "    </tr>\n",
       "  </thead>\n",
       "  <tbody>\n",
       "    <tr>\n",
       "      <th>0</th>\n",
       "      <td>5</td>\n",
       "      <td>0.5</td>\n",
       "    </tr>\n",
       "    <tr>\n",
       "      <th>1</th>\n",
       "      <td>10</td>\n",
       "      <td>0.5</td>\n",
       "    </tr>\n",
       "  </tbody>\n",
       "</table>\n",
       "</div>"
      ],
      "text/plain": [
       "    K  RMSE_CV\n",
       "0   5      0.5\n",
       "1  10      0.5"
      ]
     },
     "execution_count": 21,
     "metadata": {},
     "output_type": "execute_result"
    }
   ],
   "source": [
    "RMSE_CV=[]\n",
    "K = (5,10)\n",
    "for i in K:\n",
    "    NMSE = cross_val_score(estimator = RF_regressor, X = X_train, y = y_train, cv = i , scoring=\"neg_mean_squared_error\" )\n",
    "    RMSE_CV.append(round(np.sqrt(-NMSE).mean(),2))\n",
    "\n",
    "RMSE_CV_df = pd.DataFrame(K, columns=['K'])\n",
    "RMSE_CV_df['RMSE_CV']=RMSE_CV\n",
    "\n",
    "RMSE_CV_df"
   ]
  },
  {
   "cell_type": "markdown",
   "metadata": {},
   "source": [
    "The cross validated estimate for RMSE_test is equal to 0.5 using k=5 or 10 which is very close to RMSE_test=0.5"
   ]
  },
  {
   "cell_type": "markdown",
   "metadata": {},
   "source": [
    "## Question 2:  \n",
    "Compare the RMSE_test from your random forest model with the RMSE_test from the linear regression model in HW3 ( Don't forget to set rand_state=1000)\n",
    "\n",
    "\n",
    "**The RMSE_test using Linear regression model was 0.54 and the random forest version is 0.5. This is a significant improvement in log scale.**\n",
    "\n"
   ]
  },
  {
   "cell_type": "markdown",
   "metadata": {},
   "source": [
    "## Question 3: \n",
    " Plot the feature importance plot and make some comments! "
   ]
  },
  {
   "cell_type": "code",
   "execution_count": 22,
   "metadata": {},
   "outputs": [
    {
     "data": {
      "text/plain": [
       "['BOROUGH',\n",
       " 'NEIGHBORHOOD',\n",
       " 'BUILDING CLASS CATEGORY',\n",
       " 'TAX CLASS AT PRESENT',\n",
       " 'BUILDING CLASS AT PRESENT',\n",
       " 'ZIP CODE',\n",
       " 'RESIDENTIAL UNITS',\n",
       " 'COMMERCIAL UNITS',\n",
       " 'LAND SQUARE FEET',\n",
       " 'GROSS SQUARE FEET',\n",
       " 'YEAR BUILT',\n",
       " 'TAX CLASS AT TIME OF SALE',\n",
       " 'BUILDING CLASS AT TIME OF SALE',\n",
       " 'sale_month']"
      ]
     },
     "execution_count": 22,
     "metadata": {},
     "output_type": "execute_result"
    }
   ],
   "source": [
    "features= list(X_train.columns)\n",
    "features"
   ]
  },
  {
   "cell_type": "code",
   "execution_count": 23,
   "metadata": {},
   "outputs": [
    {
     "data": {
      "text/plain": [
       "array([0.03827493, 0.10584285, 0.05005337, 0.01554782, 0.05173698,\n",
       "       0.17402224, 0.0221178 , 0.00630826, 0.11339713, 0.19190015,\n",
       "       0.09525235, 0.01158989, 0.0466232 , 0.07733303])"
      ]
     },
     "execution_count": 23,
     "metadata": {},
     "output_type": "execute_result"
    }
   ],
   "source": [
    "importances= RF_regressor.feature_importances_\n",
    "importances"
   ]
  },
  {
   "cell_type": "code",
   "execution_count": 24,
   "metadata": {},
   "outputs": [
    {
     "data": {
      "text/html": [
       "<div>\n",
       "<style scoped>\n",
       "    .dataframe tbody tr th:only-of-type {\n",
       "        vertical-align: middle;\n",
       "    }\n",
       "\n",
       "    .dataframe tbody tr th {\n",
       "        vertical-align: top;\n",
       "    }\n",
       "\n",
       "    .dataframe thead th {\n",
       "        text-align: right;\n",
       "    }\n",
       "</style>\n",
       "<table border=\"1\" class=\"dataframe\">\n",
       "  <thead>\n",
       "    <tr style=\"text-align: right;\">\n",
       "      <th></th>\n",
       "      <th>Features</th>\n",
       "      <th>Feature_importance</th>\n",
       "    </tr>\n",
       "  </thead>\n",
       "  <tbody>\n",
       "    <tr>\n",
       "      <th>7</th>\n",
       "      <td>COMMERCIAL UNITS</td>\n",
       "      <td>0.006308</td>\n",
       "    </tr>\n",
       "    <tr>\n",
       "      <th>11</th>\n",
       "      <td>TAX CLASS AT TIME OF SALE</td>\n",
       "      <td>0.011590</td>\n",
       "    </tr>\n",
       "    <tr>\n",
       "      <th>3</th>\n",
       "      <td>TAX CLASS AT PRESENT</td>\n",
       "      <td>0.015548</td>\n",
       "    </tr>\n",
       "    <tr>\n",
       "      <th>6</th>\n",
       "      <td>RESIDENTIAL UNITS</td>\n",
       "      <td>0.022118</td>\n",
       "    </tr>\n",
       "    <tr>\n",
       "      <th>0</th>\n",
       "      <td>BOROUGH</td>\n",
       "      <td>0.038275</td>\n",
       "    </tr>\n",
       "    <tr>\n",
       "      <th>12</th>\n",
       "      <td>BUILDING CLASS AT TIME OF SALE</td>\n",
       "      <td>0.046623</td>\n",
       "    </tr>\n",
       "    <tr>\n",
       "      <th>2</th>\n",
       "      <td>BUILDING CLASS CATEGORY</td>\n",
       "      <td>0.050053</td>\n",
       "    </tr>\n",
       "    <tr>\n",
       "      <th>4</th>\n",
       "      <td>BUILDING CLASS AT PRESENT</td>\n",
       "      <td>0.051737</td>\n",
       "    </tr>\n",
       "    <tr>\n",
       "      <th>13</th>\n",
       "      <td>sale_month</td>\n",
       "      <td>0.077333</td>\n",
       "    </tr>\n",
       "    <tr>\n",
       "      <th>10</th>\n",
       "      <td>YEAR BUILT</td>\n",
       "      <td>0.095252</td>\n",
       "    </tr>\n",
       "    <tr>\n",
       "      <th>1</th>\n",
       "      <td>NEIGHBORHOOD</td>\n",
       "      <td>0.105843</td>\n",
       "    </tr>\n",
       "    <tr>\n",
       "      <th>8</th>\n",
       "      <td>LAND SQUARE FEET</td>\n",
       "      <td>0.113397</td>\n",
       "    </tr>\n",
       "    <tr>\n",
       "      <th>5</th>\n",
       "      <td>ZIP CODE</td>\n",
       "      <td>0.174022</td>\n",
       "    </tr>\n",
       "    <tr>\n",
       "      <th>9</th>\n",
       "      <td>GROSS SQUARE FEET</td>\n",
       "      <td>0.191900</td>\n",
       "    </tr>\n",
       "  </tbody>\n",
       "</table>\n",
       "</div>"
      ],
      "text/plain": [
       "                          Features  Feature_importance\n",
       "7                 COMMERCIAL UNITS            0.006308\n",
       "11       TAX CLASS AT TIME OF SALE            0.011590\n",
       "3             TAX CLASS AT PRESENT            0.015548\n",
       "6                RESIDENTIAL UNITS            0.022118\n",
       "0                          BOROUGH            0.038275\n",
       "12  BUILDING CLASS AT TIME OF SALE            0.046623\n",
       "2          BUILDING CLASS CATEGORY            0.050053\n",
       "4        BUILDING CLASS AT PRESENT            0.051737\n",
       "13                      sale_month            0.077333\n",
       "10                      YEAR BUILT            0.095252\n",
       "1                     NEIGHBORHOOD            0.105843\n",
       "8                 LAND SQUARE FEET            0.113397\n",
       "5                         ZIP CODE            0.174022\n",
       "9                GROSS SQUARE FEET            0.191900"
      ]
     },
     "execution_count": 24,
     "metadata": {},
     "output_type": "execute_result"
    }
   ],
   "source": [
    "FIM = pd.DataFrame({'Features': features , 'Feature_importance':importances})\n",
    "FIM=FIM.sort_values(by=['Feature_importance'])\n",
    "FIM"
   ]
  },
  {
   "cell_type": "code",
   "execution_count": 25,
   "metadata": {},
   "outputs": [
    {
     "data": {
      "text/plain": [
       "<matplotlib.axes._subplots.AxesSubplot at 0x1107e9e5ef0>"
      ]
     },
     "execution_count": 25,
     "metadata": {},
     "output_type": "execute_result"
    },
    {
     "data": {
      "image/png": "[encoded data removed]",
      "text/plain": [
       "<Figure size 720x432 with 1 Axes>"
      ]
     },
     "metadata": {
      "needs_background": "light"
     },
     "output_type": "display_data"
    }
   ],
   "source": [
    "plt.figure(figsize=(10,6))\n",
    "sns.barplot(y='Features', x='Feature_importance', data=FIM)"
   ]
  },
  {
   "cell_type": "markdown",
   "metadata": {},
   "source": [
    "From the Feature importance plot, it seems that Gross Square Feet and Zip code have the most impact on average reduction in RSS when expanding the decision trees. Commercial units and tax class at time of sale have the lowest impact respectively. "
   ]
  },
  {
   "cell_type": "markdown",
   "metadata": {},
   "source": [
    "--------"
   ]
  },
  {
   "cell_type": "markdown",
   "metadata": {},
   "source": [
    "## Further discussion:"
   ]
  },
  {
   "cell_type": "markdown",
   "metadata": {},
   "source": [
    "There is an alternative way of handling the categorical variables. We could have turned them into dummy variables and rerun the whole RF regression model. Let's do it here: "
   ]
  },
  {
   "cell_type": "code",
   "execution_count": 26,
   "metadata": {},
   "outputs": [],
   "source": [
    "df2 = pd.read_csv(\"nyc-rolling-sales_clean.csv\")"
   ]
  },
  {
   "cell_type": "code",
   "execution_count": 27,
   "metadata": {},
   "outputs": [],
   "source": [
    "# constructing the numerical variables:\n",
    "numeric = [\"RESIDENTIAL UNITS\",\"COMMERCIAL UNITS\",\"TOTAL UNITS\", \"LAND SQUARE FEET\" , \"GROSS SQUARE FEET\",\"SALE PRICE\" ]\n",
    "\n",
    "for col in numeric: \n",
    "    df2[col] = pd.to_numeric(df2[col], errors='coerce') # coercing errors to NAs"
   ]
  },
  {
   "cell_type": "code",
   "execution_count": 28,
   "metadata": {},
   "outputs": [],
   "source": [
    "# constructing the categorical variables:\n",
    "categorical = [\"BOROUGH\",\"NEIGHBORHOOD\",'BUILDING CLASS CATEGORY', 'TAX CLASS AT PRESENT', 'BUILDING CLASS AT PRESENT','ZIP CODE', 'YEAR BUILT', 'BUILDING CLASS AT TIME OF SALE', 'TAX CLASS AT TIME OF SALE', 'sale_month']\n",
    "\n",
    "for col in categorical: \n",
    "    df2[col] = df2[col].astype(\"category\")"
   ]
  },
  {
   "cell_type": "markdown",
   "metadata": {},
   "source": [
    "Note that the difference here is that we are not coding the categorical variables to numbers like 1,2,3,4 and 5 for Borough. Instead we are going to do **one-hot-encoding** meaning that we are going to make the categorical variables into dummy variables."
   ]
  },
  {
   "cell_type": "code",
   "execution_count": 29,
   "metadata": {},
   "outputs": [
    {
     "data": {
      "text/plain": [
       "(30236, 1170)"
      ]
     },
     "execution_count": 29,
     "metadata": {},
     "output_type": "execute_result"
    }
   ],
   "source": [
    "df2 = pd.get_dummies(df2, drop_first=True)\n",
    "df2.shape"
   ]
  },
  {
   "cell_type": "markdown",
   "metadata": {},
   "source": [
    "Now we have 1169 features instead of only 14 features! Finally let's apply random forest model to df2."
   ]
  },
  {
   "cell_type": "code",
   "execution_count": 30,
   "metadata": {},
   "outputs": [],
   "source": [
    "df2['lsales']=np.log(df2['SALE PRICE'])\n",
    "y = df2['lsales']\n",
    "X = df2.drop(['lsales','SALE PRICE'], axis=1) # becareful inplace= False\n",
    "\n",
    "from sklearn.model_selection import train_test_split\n",
    "X_train, X_test, y_train, y_test = train_test_split(X, y, test_size=0.2, random_state=rand_state)"
   ]
  },
  {
   "cell_type": "code",
   "execution_count": 31,
   "metadata": {},
   "outputs": [
    {
     "data": {
      "text/plain": [
       "RandomForestRegressor(bootstrap=True, criterion='mse', max_depth=None,\n",
       "                      max_features='sqrt', max_leaf_nodes=None,\n",
       "                      min_impurity_decrease=0.0, min_impurity_split=None,\n",
       "                      min_samples_leaf=1, min_samples_split=2,\n",
       "                      min_weight_fraction_leaf=0.0, n_estimators=100,\n",
       "                      n_jobs=None, oob_score=False, random_state=100, verbose=0,\n",
       "                      warm_start=False)"
      ]
     },
     "execution_count": 31,
     "metadata": {},
     "output_type": "execute_result"
    }
   ],
   "source": [
    "RF_regressor = RandomForestRegressor(n_estimators = 100, max_features='sqrt', random_state=100)\n",
    "RF_regressor.fit(X_train, y_train)"
   ]
  },
  {
   "cell_type": "code",
   "execution_count": 32,
   "metadata": {},
   "outputs": [],
   "source": [
    "# Predicting the Test set results\n",
    "y_pred_test = RF_regressor.predict(X_test)"
   ]
  },
  {
   "cell_type": "markdown",
   "metadata": {},
   "source": [
    "###  Evaluating the Random Forests Regression model on test dataset¶ and plotting the feature importance for 1170 features!\n"
   ]
  },
  {
   "cell_type": "code",
   "execution_count": 33,
   "metadata": {},
   "outputs": [
    {
     "data": {
      "text/plain": [
       "0.5"
      ]
     },
     "execution_count": 33,
     "metadata": {},
     "output_type": "execute_result"
    }
   ],
   "source": [
    "MSE_test = round(np.mean(np.square(y_test - y_pred_test)),2)\n",
    "RMSE_test = round(np.sqrt(MSE_test),2)\n",
    "RMSE_test"
   ]
  },
  {
   "cell_type": "markdown",
   "metadata": {},
   "source": [
    "As you can see, the answers are very close to each other. In both cases, the RMSE_test = 0.5"
   ]
  },
  {
   "cell_type": "code",
   "execution_count": 34,
   "metadata": {},
   "outputs": [],
   "source": [
    "features= list(X_train.columns)"
   ]
  },
  {
   "cell_type": "code",
   "execution_count": 35,
   "metadata": {},
   "outputs": [
    {
     "data": {
      "text/plain": [
       "array([0.01799147, 0.00788772, 0.01427079, ..., 0.00418988, 0.00437411,\n",
       "       0.00450202])"
      ]
     },
     "execution_count": 35,
     "metadata": {},
     "output_type": "execute_result"
    }
   ],
   "source": [
    "importances= RF_regressor.feature_importances_\n",
    "importances"
   ]
  },
  {
   "cell_type": "code",
   "execution_count": 36,
   "metadata": {},
   "outputs": [
    {
     "data": {
      "text/html": [
       "<div>\n",
       "<style scoped>\n",
       "    .dataframe tbody tr th:only-of-type {\n",
       "        vertical-align: middle;\n",
       "    }\n",
       "\n",
       "    .dataframe tbody tr th {\n",
       "        vertical-align: top;\n",
       "    }\n",
       "\n",
       "    .dataframe thead th {\n",
       "        text-align: right;\n",
       "    }\n",
       "</style>\n",
       "<table border=\"1\" class=\"dataframe\">\n",
       "  <thead>\n",
       "    <tr style=\"text-align: right;\">\n",
       "      <th></th>\n",
       "      <th>Features</th>\n",
       "      <th>Feature_importance</th>\n",
       "    </tr>\n",
       "  </thead>\n",
       "  <tbody>\n",
       "    <tr>\n",
       "      <th>4</th>\n",
       "      <td>GROSS SQUARE FEET</td>\n",
       "      <td>8.222125e-02</td>\n",
       "    </tr>\n",
       "    <tr>\n",
       "      <th>3</th>\n",
       "      <td>LAND SQUARE FEET</td>\n",
       "      <td>5.367536e-02</td>\n",
       "    </tr>\n",
       "    <tr>\n",
       "      <th>6</th>\n",
       "      <td>BOROUGH_Brooklyn</td>\n",
       "      <td>3.022880e-02</td>\n",
       "    </tr>\n",
       "    <tr>\n",
       "      <th>0</th>\n",
       "      <td>RESIDENTIAL UNITS</td>\n",
       "      <td>1.799147e-02</td>\n",
       "    </tr>\n",
       "    <tr>\n",
       "      <th>2</th>\n",
       "      <td>TOTAL UNITS</td>\n",
       "      <td>1.427079e-02</td>\n",
       "    </tr>\n",
       "    <tr>\n",
       "      <th>283</th>\n",
       "      <td>BUILDING CLASS CATEGORY_44 CONDO PARKING      ...</td>\n",
       "      <td>1.060404e-02</td>\n",
       "    </tr>\n",
       "    <tr>\n",
       "      <th>716</th>\n",
       "      <td>TAX CLASS AT TIME OF SALE_2</td>\n",
       "      <td>8.405626e-03</td>\n",
       "    </tr>\n",
       "    <tr>\n",
       "      <th>9</th>\n",
       "      <td>BOROUGH_Staten Island</td>\n",
       "      <td>8.270029e-03</td>\n",
       "    </tr>\n",
       "    <tr>\n",
       "      <th>5</th>\n",
       "      <td>sale_year</td>\n",
       "      <td>8.040624e-03</td>\n",
       "    </tr>\n",
       "    <tr>\n",
       "      <th>505</th>\n",
       "      <td>ZIP CODE_11215</td>\n",
       "      <td>7.995483e-03</td>\n",
       "    </tr>\n",
       "    <tr>\n",
       "      <th>1</th>\n",
       "      <td>COMMERCIAL UNITS</td>\n",
       "      <td>7.887716e-03</td>\n",
       "    </tr>\n",
       "    <tr>\n",
       "      <th>8</th>\n",
       "      <td>BOROUGH_Queens</td>\n",
       "      <td>7.769443e-03</td>\n",
       "    </tr>\n",
       "    <tr>\n",
       "      <th>492</th>\n",
       "      <td>ZIP CODE_11201</td>\n",
       "      <td>7.098880e-03</td>\n",
       "    </tr>\n",
       "    <tr>\n",
       "      <th>93</th>\n",
       "      <td>NEIGHBORHOOD_FLUSHING-NORTH</td>\n",
       "      <td>6.727200e-03</td>\n",
       "    </tr>\n",
       "    <tr>\n",
       "      <th>809</th>\n",
       "      <td>BUILDING CLASS AT TIME OF SALE_RG</td>\n",
       "      <td>6.597051e-03</td>\n",
       "    </tr>\n",
       "    <tr>\n",
       "      <th>76</th>\n",
       "      <td>NEIGHBORHOOD_EAST NEW YORK</td>\n",
       "      <td>5.928287e-03</td>\n",
       "    </tr>\n",
       "    <tr>\n",
       "      <th>618</th>\n",
       "      <td>YEAR BUILT_1920</td>\n",
       "      <td>5.807123e-03</td>\n",
       "    </tr>\n",
       "    <tr>\n",
       "      <th>1159</th>\n",
       "      <td>sale_month_3</td>\n",
       "      <td>5.266467e-03</td>\n",
       "    </tr>\n",
       "    <tr>\n",
       "      <th>803</th>\n",
       "      <td>BUILDING CLASS AT TIME OF SALE_R4</td>\n",
       "      <td>5.206597e-03</td>\n",
       "    </tr>\n",
       "    <tr>\n",
       "      <th>256</th>\n",
       "      <td>BUILDING CLASS CATEGORY_07 RENTALS - WALKUP AP...</td>\n",
       "      <td>5.140064e-03</td>\n",
       "    </tr>\n",
       "    <tr>\n",
       "      <th>387</th>\n",
       "      <td>BUILDING CLASS AT PRESENT_RG</td>\n",
       "      <td>5.100710e-03</td>\n",
       "    </tr>\n",
       "    <tr>\n",
       "      <th>1158</th>\n",
       "      <td>sale_month_2</td>\n",
       "      <td>5.077714e-03</td>\n",
       "    </tr>\n",
       "    <tr>\n",
       "      <th>628</th>\n",
       "      <td>YEAR BUILT_1930</td>\n",
       "      <td>4.939191e-03</td>\n",
       "    </tr>\n",
       "    <tr>\n",
       "      <th>1161</th>\n",
       "      <td>sale_month_5</td>\n",
       "      <td>4.913699e-03</td>\n",
       "    </tr>\n",
       "    <tr>\n",
       "      <th>1162</th>\n",
       "      <td>sale_month_6</td>\n",
       "      <td>4.799225e-03</td>\n",
       "    </tr>\n",
       "    <tr>\n",
       "      <th>1165</th>\n",
       "      <td>sale_month_9</td>\n",
       "      <td>4.792708e-03</td>\n",
       "    </tr>\n",
       "    <tr>\n",
       "      <th>623</th>\n",
       "      <td>YEAR BUILT_1925</td>\n",
       "      <td>4.522779e-03</td>\n",
       "    </tr>\n",
       "    <tr>\n",
       "      <th>1168</th>\n",
       "      <td>sale_month_12</td>\n",
       "      <td>4.502017e-03</td>\n",
       "    </tr>\n",
       "    <tr>\n",
       "      <th>178</th>\n",
       "      <td>NEIGHBORHOOD_PARK SLOPE</td>\n",
       "      <td>4.501385e-03</td>\n",
       "    </tr>\n",
       "    <tr>\n",
       "      <th>295</th>\n",
       "      <td>TAX CLASS AT PRESENT_4</td>\n",
       "      <td>4.464933e-03</td>\n",
       "    </tr>\n",
       "    <tr>\n",
       "      <th>...</th>\n",
       "      <td>...</td>\n",
       "      <td>...</td>\n",
       "    </tr>\n",
       "    <tr>\n",
       "      <th>770</th>\n",
       "      <td>BUILDING CLASS AT TIME OF SALE_I7</td>\n",
       "      <td>5.020221e-07</td>\n",
       "    </tr>\n",
       "    <tr>\n",
       "      <th>967</th>\n",
       "      <td>SALE DATE_2017-01-28</td>\n",
       "      <td>4.443195e-07</td>\n",
       "    </tr>\n",
       "    <tr>\n",
       "      <th>1005</th>\n",
       "      <td>SALE DATE_2017-03-11</td>\n",
       "      <td>2.184824e-07</td>\n",
       "    </tr>\n",
       "    <tr>\n",
       "      <th>231</th>\n",
       "      <td>NEIGHBORHOOD_UPPER WEST SIDE (96-116)</td>\n",
       "      <td>0.000000e+00</td>\n",
       "    </tr>\n",
       "    <tr>\n",
       "      <th>1153</th>\n",
       "      <td>SALE DATE_2017-08-26</td>\n",
       "      <td>0.000000e+00</td>\n",
       "    </tr>\n",
       "    <tr>\n",
       "      <th>905</th>\n",
       "      <td>SALE DATE_2016-11-20</td>\n",
       "      <td>0.000000e+00</td>\n",
       "    </tr>\n",
       "    <tr>\n",
       "      <th>50</th>\n",
       "      <td>NEIGHBORHOOD_CITY ISLAND-PELHAM STRIP</td>\n",
       "      <td>0.000000e+00</td>\n",
       "    </tr>\n",
       "    <tr>\n",
       "      <th>724</th>\n",
       "      <td>BUILDING CLASS AT TIME OF SALE_A7</td>\n",
       "      <td>0.000000e+00</td>\n",
       "    </tr>\n",
       "    <tr>\n",
       "      <th>227</th>\n",
       "      <td>NEIGHBORHOOD_UPPER EAST SIDE (79-96)</td>\n",
       "      <td>0.000000e+00</td>\n",
       "    </tr>\n",
       "    <tr>\n",
       "      <th>1082</th>\n",
       "      <td>SALE DATE_2017-06-04</td>\n",
       "      <td>0.000000e+00</td>\n",
       "    </tr>\n",
       "    <tr>\n",
       "      <th>765</th>\n",
       "      <td>BUILDING CLASS AT TIME OF SALE_H8</td>\n",
       "      <td>0.000000e+00</td>\n",
       "    </tr>\n",
       "    <tr>\n",
       "      <th>302</th>\n",
       "      <td>BUILDING CLASS AT PRESENT_A7</td>\n",
       "      <td>0.000000e+00</td>\n",
       "    </tr>\n",
       "    <tr>\n",
       "      <th>420</th>\n",
       "      <td>ZIP CODE_10017</td>\n",
       "      <td>0.000000e+00</td>\n",
       "    </tr>\n",
       "    <tr>\n",
       "      <th>1095</th>\n",
       "      <td>SALE DATE_2017-06-17</td>\n",
       "      <td>0.000000e+00</td>\n",
       "    </tr>\n",
       "    <tr>\n",
       "      <th>954</th>\n",
       "      <td>SALE DATE_2017-01-14</td>\n",
       "      <td>0.000000e+00</td>\n",
       "    </tr>\n",
       "    <tr>\n",
       "      <th>430</th>\n",
       "      <td>ZIP CODE_10028</td>\n",
       "      <td>0.000000e+00</td>\n",
       "    </tr>\n",
       "    <tr>\n",
       "      <th>443</th>\n",
       "      <td>ZIP CODE_10128</td>\n",
       "      <td>0.000000e+00</td>\n",
       "    </tr>\n",
       "    <tr>\n",
       "      <th>481</th>\n",
       "      <td>ZIP CODE_10803</td>\n",
       "      <td>0.000000e+00</td>\n",
       "    </tr>\n",
       "    <tr>\n",
       "      <th>968</th>\n",
       "      <td>SALE DATE_2017-01-29</td>\n",
       "      <td>0.000000e+00</td>\n",
       "    </tr>\n",
       "    <tr>\n",
       "      <th>356</th>\n",
       "      <td>BUILDING CLASS AT PRESENT_K7</td>\n",
       "      <td>0.000000e+00</td>\n",
       "    </tr>\n",
       "    <tr>\n",
       "      <th>778</th>\n",
       "      <td>BUILDING CLASS AT TIME OF SALE_K7</td>\n",
       "      <td>0.000000e+00</td>\n",
       "    </tr>\n",
       "    <tr>\n",
       "      <th>104</th>\n",
       "      <td>NEIGHBORHOOD_GRAMERCY</td>\n",
       "      <td>0.000000e+00</td>\n",
       "    </tr>\n",
       "    <tr>\n",
       "      <th>582</th>\n",
       "      <td>YEAR BUILT_1850</td>\n",
       "      <td>0.000000e+00</td>\n",
       "    </tr>\n",
       "    <tr>\n",
       "      <th>345</th>\n",
       "      <td>BUILDING CLASS AT PRESENT_I4</td>\n",
       "      <td>0.000000e+00</td>\n",
       "    </tr>\n",
       "    <tr>\n",
       "      <th>343</th>\n",
       "      <td>BUILDING CLASS AT PRESENT_H8</td>\n",
       "      <td>0.000000e+00</td>\n",
       "    </tr>\n",
       "    <tr>\n",
       "      <th>590</th>\n",
       "      <td>YEAR BUILT_1889</td>\n",
       "      <td>0.000000e+00</td>\n",
       "    </tr>\n",
       "    <tr>\n",
       "      <th>595</th>\n",
       "      <td>YEAR BUILT_1896</td>\n",
       "      <td>0.000000e+00</td>\n",
       "    </tr>\n",
       "    <tr>\n",
       "      <th>767</th>\n",
       "      <td>BUILDING CLASS AT TIME OF SALE_I4</td>\n",
       "      <td>0.000000e+00</td>\n",
       "    </tr>\n",
       "    <tr>\n",
       "      <th>858</th>\n",
       "      <td>SALE DATE_2016-10-02</td>\n",
       "      <td>0.000000e+00</td>\n",
       "    </tr>\n",
       "    <tr>\n",
       "      <th>1037</th>\n",
       "      <td>SALE DATE_2017-04-15</td>\n",
       "      <td>0.000000e+00</td>\n",
       "    </tr>\n",
       "  </tbody>\n",
       "</table>\n",
       "<p>1169 rows × 2 columns</p>\n",
       "</div>"
      ],
      "text/plain": [
       "                                               Features  Feature_importance\n",
       "4                                     GROSS SQUARE FEET        8.222125e-02\n",
       "3                                      LAND SQUARE FEET        5.367536e-02\n",
       "6                                      BOROUGH_Brooklyn        3.022880e-02\n",
       "0                                     RESIDENTIAL UNITS        1.799147e-02\n",
       "2                                           TOTAL UNITS        1.427079e-02\n",
       "283   BUILDING CLASS CATEGORY_44 CONDO PARKING      ...        1.060404e-02\n",
       "716                         TAX CLASS AT TIME OF SALE_2        8.405626e-03\n",
       "9                                 BOROUGH_Staten Island        8.270029e-03\n",
       "5                                             sale_year        8.040624e-03\n",
       "505                                      ZIP CODE_11215        7.995483e-03\n",
       "1                                      COMMERCIAL UNITS        7.887716e-03\n",
       "8                                        BOROUGH_Queens        7.769443e-03\n",
       "492                                      ZIP CODE_11201        7.098880e-03\n",
       "93                          NEIGHBORHOOD_FLUSHING-NORTH        6.727200e-03\n",
       "809                   BUILDING CLASS AT TIME OF SALE_RG        6.597051e-03\n",
       "76                           NEIGHBORHOOD_EAST NEW YORK        5.928287e-03\n",
       "618                                     YEAR BUILT_1920        5.807123e-03\n",
       "1159                                       sale_month_3        5.266467e-03\n",
       "803                   BUILDING CLASS AT TIME OF SALE_R4        5.206597e-03\n",
       "256   BUILDING CLASS CATEGORY_07 RENTALS - WALKUP AP...        5.140064e-03\n",
       "387                        BUILDING CLASS AT PRESENT_RG        5.100710e-03\n",
       "1158                                       sale_month_2        5.077714e-03\n",
       "628                                     YEAR BUILT_1930        4.939191e-03\n",
       "1161                                       sale_month_5        4.913699e-03\n",
       "1162                                       sale_month_6        4.799225e-03\n",
       "1165                                       sale_month_9        4.792708e-03\n",
       "623                                     YEAR BUILT_1925        4.522779e-03\n",
       "1168                                      sale_month_12        4.502017e-03\n",
       "178                             NEIGHBORHOOD_PARK SLOPE        4.501385e-03\n",
       "295                              TAX CLASS AT PRESENT_4        4.464933e-03\n",
       "...                                                 ...                 ...\n",
       "770                   BUILDING CLASS AT TIME OF SALE_I7        5.020221e-07\n",
       "967                                SALE DATE_2017-01-28        4.443195e-07\n",
       "1005                               SALE DATE_2017-03-11        2.184824e-07\n",
       "231               NEIGHBORHOOD_UPPER WEST SIDE (96-116)        0.000000e+00\n",
       "1153                               SALE DATE_2017-08-26        0.000000e+00\n",
       "905                                SALE DATE_2016-11-20        0.000000e+00\n",
       "50                NEIGHBORHOOD_CITY ISLAND-PELHAM STRIP        0.000000e+00\n",
       "724                   BUILDING CLASS AT TIME OF SALE_A7        0.000000e+00\n",
       "227                NEIGHBORHOOD_UPPER EAST SIDE (79-96)        0.000000e+00\n",
       "1082                               SALE DATE_2017-06-04        0.000000e+00\n",
       "765                   BUILDING CLASS AT TIME OF SALE_H8        0.000000e+00\n",
       "302                        BUILDING CLASS AT PRESENT_A7        0.000000e+00\n",
       "420                                      ZIP CODE_10017        0.000000e+00\n",
       "1095                               SALE DATE_2017-06-17        0.000000e+00\n",
       "954                                SALE DATE_2017-01-14        0.000000e+00\n",
       "430                                      ZIP CODE_10028        0.000000e+00\n",
       "443                                      ZIP CODE_10128        0.000000e+00\n",
       "481                                      ZIP CODE_10803        0.000000e+00\n",
       "968                                SALE DATE_2017-01-29        0.000000e+00\n",
       "356                        BUILDING CLASS AT PRESENT_K7        0.000000e+00\n",
       "778                   BUILDING CLASS AT TIME OF SALE_K7        0.000000e+00\n",
       "104                               NEIGHBORHOOD_GRAMERCY        0.000000e+00\n",
       "582                                     YEAR BUILT_1850        0.000000e+00\n",
       "345                        BUILDING CLASS AT PRESENT_I4        0.000000e+00\n",
       "343                        BUILDING CLASS AT PRESENT_H8        0.000000e+00\n",
       "590                                     YEAR BUILT_1889        0.000000e+00\n",
       "595                                     YEAR BUILT_1896        0.000000e+00\n",
       "767                   BUILDING CLASS AT TIME OF SALE_I4        0.000000e+00\n",
       "858                                SALE DATE_2016-10-02        0.000000e+00\n",
       "1037                               SALE DATE_2017-04-15        0.000000e+00\n",
       "\n",
       "[1169 rows x 2 columns]"
      ]
     },
     "execution_count": 36,
     "metadata": {},
     "output_type": "execute_result"
    }
   ],
   "source": [
    "FIM = pd.DataFrame({'Features': features , 'Feature_importance':importances})\n",
    "FIM=FIM.sort_values(by=['Feature_importance'], ascending=False)\n",
    "FIM"
   ]
  },
  {
   "cell_type": "markdown",
   "metadata": {},
   "source": [
    "Let's plot the top 20 most important features out of 1169 features"
   ]
  },
  {
   "cell_type": "code",
   "execution_count": 37,
   "metadata": {},
   "outputs": [
    {
     "data": {
      "text/html": [
       "<div>\n",
       "<style scoped>\n",
       "    .dataframe tbody tr th:only-of-type {\n",
       "        vertical-align: middle;\n",
       "    }\n",
       "\n",
       "    .dataframe tbody tr th {\n",
       "        vertical-align: top;\n",
       "    }\n",
       "\n",
       "    .dataframe thead th {\n",
       "        text-align: right;\n",
       "    }\n",
       "</style>\n",
       "<table border=\"1\" class=\"dataframe\">\n",
       "  <thead>\n",
       "    <tr style=\"text-align: right;\">\n",
       "      <th></th>\n",
       "      <th>Features</th>\n",
       "      <th>Feature_importance</th>\n",
       "    </tr>\n",
       "  </thead>\n",
       "  <tbody>\n",
       "    <tr>\n",
       "      <th>4</th>\n",
       "      <td>GROSS SQUARE FEET</td>\n",
       "      <td>0.082221</td>\n",
       "    </tr>\n",
       "    <tr>\n",
       "      <th>3</th>\n",
       "      <td>LAND SQUARE FEET</td>\n",
       "      <td>0.053675</td>\n",
       "    </tr>\n",
       "    <tr>\n",
       "      <th>6</th>\n",
       "      <td>BOROUGH_Brooklyn</td>\n",
       "      <td>0.030229</td>\n",
       "    </tr>\n",
       "    <tr>\n",
       "      <th>0</th>\n",
       "      <td>RESIDENTIAL UNITS</td>\n",
       "      <td>0.017991</td>\n",
       "    </tr>\n",
       "    <tr>\n",
       "      <th>2</th>\n",
       "      <td>TOTAL UNITS</td>\n",
       "      <td>0.014271</td>\n",
       "    </tr>\n",
       "    <tr>\n",
       "      <th>283</th>\n",
       "      <td>BUILDING CLASS CATEGORY_44 CONDO PARKING      ...</td>\n",
       "      <td>0.010604</td>\n",
       "    </tr>\n",
       "    <tr>\n",
       "      <th>716</th>\n",
       "      <td>TAX CLASS AT TIME OF SALE_2</td>\n",
       "      <td>0.008406</td>\n",
       "    </tr>\n",
       "    <tr>\n",
       "      <th>9</th>\n",
       "      <td>BOROUGH_Staten Island</td>\n",
       "      <td>0.008270</td>\n",
       "    </tr>\n",
       "    <tr>\n",
       "      <th>5</th>\n",
       "      <td>sale_year</td>\n",
       "      <td>0.008041</td>\n",
       "    </tr>\n",
       "    <tr>\n",
       "      <th>505</th>\n",
       "      <td>ZIP CODE_11215</td>\n",
       "      <td>0.007995</td>\n",
       "    </tr>\n",
       "    <tr>\n",
       "      <th>1</th>\n",
       "      <td>COMMERCIAL UNITS</td>\n",
       "      <td>0.007888</td>\n",
       "    </tr>\n",
       "    <tr>\n",
       "      <th>8</th>\n",
       "      <td>BOROUGH_Queens</td>\n",
       "      <td>0.007769</td>\n",
       "    </tr>\n",
       "    <tr>\n",
       "      <th>492</th>\n",
       "      <td>ZIP CODE_11201</td>\n",
       "      <td>0.007099</td>\n",
       "    </tr>\n",
       "    <tr>\n",
       "      <th>93</th>\n",
       "      <td>NEIGHBORHOOD_FLUSHING-NORTH</td>\n",
       "      <td>0.006727</td>\n",
       "    </tr>\n",
       "    <tr>\n",
       "      <th>809</th>\n",
       "      <td>BUILDING CLASS AT TIME OF SALE_RG</td>\n",
       "      <td>0.006597</td>\n",
       "    </tr>\n",
       "    <tr>\n",
       "      <th>76</th>\n",
       "      <td>NEIGHBORHOOD_EAST NEW YORK</td>\n",
       "      <td>0.005928</td>\n",
       "    </tr>\n",
       "    <tr>\n",
       "      <th>618</th>\n",
       "      <td>YEAR BUILT_1920</td>\n",
       "      <td>0.005807</td>\n",
       "    </tr>\n",
       "    <tr>\n",
       "      <th>1159</th>\n",
       "      <td>sale_month_3</td>\n",
       "      <td>0.005266</td>\n",
       "    </tr>\n",
       "    <tr>\n",
       "      <th>803</th>\n",
       "      <td>BUILDING CLASS AT TIME OF SALE_R4</td>\n",
       "      <td>0.005207</td>\n",
       "    </tr>\n",
       "    <tr>\n",
       "      <th>256</th>\n",
       "      <td>BUILDING CLASS CATEGORY_07 RENTALS - WALKUP AP...</td>\n",
       "      <td>0.005140</td>\n",
       "    </tr>\n",
       "  </tbody>\n",
       "</table>\n",
       "</div>"
      ],
      "text/plain": [
       "                                               Features  Feature_importance\n",
       "4                                     GROSS SQUARE FEET            0.082221\n",
       "3                                      LAND SQUARE FEET            0.053675\n",
       "6                                      BOROUGH_Brooklyn            0.030229\n",
       "0                                     RESIDENTIAL UNITS            0.017991\n",
       "2                                           TOTAL UNITS            0.014271\n",
       "283   BUILDING CLASS CATEGORY_44 CONDO PARKING      ...            0.010604\n",
       "716                         TAX CLASS AT TIME OF SALE_2            0.008406\n",
       "9                                 BOROUGH_Staten Island            0.008270\n",
       "5                                             sale_year            0.008041\n",
       "505                                      ZIP CODE_11215            0.007995\n",
       "1                                      COMMERCIAL UNITS            0.007888\n",
       "8                                        BOROUGH_Queens            0.007769\n",
       "492                                      ZIP CODE_11201            0.007099\n",
       "93                          NEIGHBORHOOD_FLUSHING-NORTH            0.006727\n",
       "809                   BUILDING CLASS AT TIME OF SALE_RG            0.006597\n",
       "76                           NEIGHBORHOOD_EAST NEW YORK            0.005928\n",
       "618                                     YEAR BUILT_1920            0.005807\n",
       "1159                                       sale_month_3            0.005266\n",
       "803                   BUILDING CLASS AT TIME OF SALE_R4            0.005207\n",
       "256   BUILDING CLASS CATEGORY_07 RENTALS - WALKUP AP...            0.005140"
      ]
     },
     "execution_count": 37,
     "metadata": {},
     "output_type": "execute_result"
    }
   ],
   "source": [
    "FIM.iloc[0:20]"
   ]
  },
  {
   "cell_type": "code",
   "execution_count": 38,
   "metadata": {},
   "outputs": [
    {
     "data": {
      "text/plain": [
       "<matplotlib.axes._subplots.AxesSubplot at 0x1100e50f7b8>"
      ]
     },
     "execution_count": 38,
     "metadata": {},
     "output_type": "execute_result"
    },
    {
     "data": {
      "image/png": "[encoded data removed]",
      "text/plain": [
       "<Figure size 720x432 with 1 Axes>"
      ]
     },
     "metadata": {
      "needs_background": "light"
     },
     "output_type": "display_data"
    }
   ],
   "source": [
    "plt.figure(figsize=(10,6))\n",
    "sns.barplot(y='Features', x='Feature_importance', data=FIM.iloc[0:20])"
   ]
  },
  {
   "cell_type": "markdown",
   "metadata": {},
   "source": [
    "## Question:\n",
    "Which way of dealing with categorical variables makes more sense to you? When do you think we should use either of them?"
   ]
  }
 ],
 "metadata": {
  "kernelspec": {
   "display_name": "Python 3",
   "language": "python",
   "name": "python3"
  },
  "language_info": {
   "codemirror_mode": {
    "name": "ipython",
    "version": 3
   },
   "file_extension": ".py",
   "mimetype": "text/x-python",
   "name": "python",
   "nbconvert_exporter": "python",
   "pygments_lexer": "ipython3",
   "version": "3.7.3"
  }
 },
 "nbformat": 4,
 "nbformat_minor": 4
}
