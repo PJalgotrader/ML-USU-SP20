{
 "cells": [
  {
   "cell_type": "markdown",
   "metadata": {},
   "source": [
    "# Niranjan Poudel (Niranjan111@hotmail.com)"
   ]
  },
  {
   "cell_type": "markdown",
   "metadata": {},
   "source": [
    "## Assignment 2 (Linear regression)"
   ]
  },
  {
   "cell_type": "markdown",
   "metadata": {},
   "source": [
    "### Part 1 Exploratory data analysis"
   ]
  },
  {
   "cell_type": "code",
   "execution_count": 1,
   "metadata": {},
   "outputs": [],
   "source": [
    "# Importing the required libaries\n",
    "import pandas as pd\n",
    "import numpy as np\n",
    "import matplotlib.pyplot as plt\n",
    "import seaborn as sns"
   ]
  },
  {
   "cell_type": "code",
   "execution_count": 2,
   "metadata": {},
   "outputs": [
    {
     "data": {
      "text/plain": [
       "'C:\\\\Users\\\\Niranjan.p\\\\Documents'"
      ]
     },
     "execution_count": 2,
     "metadata": {},
     "output_type": "execute_result"
    }
   ],
   "source": [
    "pwd"
   ]
  },
  {
   "cell_type": "markdown",
   "metadata": {},
   "source": [
    "### Importing the data set"
   ]
  },
  {
   "cell_type": "code",
   "execution_count": 3,
   "metadata": {},
   "outputs": [
    {
     "data": {
      "text/html": [
       "<div>\n",
       "<style scoped>\n",
       "    .dataframe tbody tr th:only-of-type {\n",
       "        vertical-align: middle;\n",
       "    }\n",
       "\n",
       "    .dataframe tbody tr th {\n",
       "        vertical-align: top;\n",
       "    }\n",
       "\n",
       "    .dataframe thead th {\n",
       "        text-align: right;\n",
       "    }\n",
       "</style>\n",
       "<table border=\"1\" class=\"dataframe\">\n",
       "  <thead>\n",
       "    <tr style=\"text-align: right;\">\n",
       "      <th></th>\n",
       "      <th>Unnamed: 0</th>\n",
       "      <th>BOROUGH</th>\n",
       "      <th>NEIGHBORHOOD</th>\n",
       "      <th>BUILDING CLASS CATEGORY</th>\n",
       "      <th>TAX CLASS AT PRESENT</th>\n",
       "      <th>BLOCK</th>\n",
       "      <th>LOT</th>\n",
       "      <th>EASE-MENT</th>\n",
       "      <th>BUILDING CLASS AT PRESENT</th>\n",
       "      <th>ADDRESS</th>\n",
       "      <th>APARTMENT NUMBER</th>\n",
       "      <th>ZIP CODE</th>\n",
       "      <th>RESIDENTIAL UNITS</th>\n",
       "      <th>COMMERCIAL UNITS</th>\n",
       "      <th>TOTAL UNITS</th>\n",
       "      <th>LAND SQUARE FEET</th>\n",
       "      <th>GROSS SQUARE FEET</th>\n",
       "      <th>YEAR BUILT</th>\n",
       "      <th>TAX CLASS AT TIME OF SALE</th>\n",
       "      <th>BUILDING CLASS AT TIME OF SALE</th>\n",
       "      <th>SALE PRICE</th>\n",
       "      <th>SALE DATE</th>\n",
       "    </tr>\n",
       "  </thead>\n",
       "  <tbody>\n",
       "    <tr>\n",
       "      <td>0</td>\n",
       "      <td>4</td>\n",
       "      <td>1</td>\n",
       "      <td>ALPHABET CITY</td>\n",
       "      <td>07 RENTALS - WALKUP APARTMENTS</td>\n",
       "      <td>2A</td>\n",
       "      <td>392</td>\n",
       "      <td>6</td>\n",
       "      <td></td>\n",
       "      <td>C2</td>\n",
       "      <td>153 AVENUE B</td>\n",
       "      <td></td>\n",
       "      <td>10009</td>\n",
       "      <td>5</td>\n",
       "      <td>0</td>\n",
       "      <td>5</td>\n",
       "      <td>1633</td>\n",
       "      <td>6440</td>\n",
       "      <td>1900</td>\n",
       "      <td>2</td>\n",
       "      <td>C2</td>\n",
       "      <td>6625000</td>\n",
       "      <td>2017-07-19 00:00:00</td>\n",
       "    </tr>\n",
       "    <tr>\n",
       "      <td>1</td>\n",
       "      <td>5</td>\n",
       "      <td>1</td>\n",
       "      <td>ALPHABET CITY</td>\n",
       "      <td>07 RENTALS - WALKUP APARTMENTS</td>\n",
       "      <td>2</td>\n",
       "      <td>399</td>\n",
       "      <td>26</td>\n",
       "      <td></td>\n",
       "      <td>C7</td>\n",
       "      <td>234 EAST 4TH   STREET</td>\n",
       "      <td></td>\n",
       "      <td>10009</td>\n",
       "      <td>28</td>\n",
       "      <td>3</td>\n",
       "      <td>31</td>\n",
       "      <td>4616</td>\n",
       "      <td>18690</td>\n",
       "      <td>1900</td>\n",
       "      <td>2</td>\n",
       "      <td>C7</td>\n",
       "      <td>-</td>\n",
       "      <td>2016-12-14 00:00:00</td>\n",
       "    </tr>\n",
       "    <tr>\n",
       "      <td>2</td>\n",
       "      <td>6</td>\n",
       "      <td>1</td>\n",
       "      <td>ALPHABET CITY</td>\n",
       "      <td>07 RENTALS - WALKUP APARTMENTS</td>\n",
       "      <td>2</td>\n",
       "      <td>399</td>\n",
       "      <td>39</td>\n",
       "      <td></td>\n",
       "      <td>C7</td>\n",
       "      <td>197 EAST 3RD   STREET</td>\n",
       "      <td></td>\n",
       "      <td>10009</td>\n",
       "      <td>16</td>\n",
       "      <td>1</td>\n",
       "      <td>17</td>\n",
       "      <td>2212</td>\n",
       "      <td>7803</td>\n",
       "      <td>1900</td>\n",
       "      <td>2</td>\n",
       "      <td>C7</td>\n",
       "      <td>-</td>\n",
       "      <td>2016-12-09 00:00:00</td>\n",
       "    </tr>\n",
       "    <tr>\n",
       "      <td>3</td>\n",
       "      <td>7</td>\n",
       "      <td>1</td>\n",
       "      <td>ALPHABET CITY</td>\n",
       "      <td>07 RENTALS - WALKUP APARTMENTS</td>\n",
       "      <td>2B</td>\n",
       "      <td>402</td>\n",
       "      <td>21</td>\n",
       "      <td></td>\n",
       "      <td>C4</td>\n",
       "      <td>154 EAST 7TH STREET</td>\n",
       "      <td></td>\n",
       "      <td>10009</td>\n",
       "      <td>10</td>\n",
       "      <td>0</td>\n",
       "      <td>10</td>\n",
       "      <td>2272</td>\n",
       "      <td>6794</td>\n",
       "      <td>1913</td>\n",
       "      <td>2</td>\n",
       "      <td>C4</td>\n",
       "      <td>3936272</td>\n",
       "      <td>2016-09-23 00:00:00</td>\n",
       "    </tr>\n",
       "    <tr>\n",
       "      <td>4</td>\n",
       "      <td>8</td>\n",
       "      <td>1</td>\n",
       "      <td>ALPHABET CITY</td>\n",
       "      <td>07 RENTALS - WALKUP APARTMENTS</td>\n",
       "      <td>2A</td>\n",
       "      <td>404</td>\n",
       "      <td>55</td>\n",
       "      <td></td>\n",
       "      <td>C2</td>\n",
       "      <td>301 EAST 10TH   STREET</td>\n",
       "      <td></td>\n",
       "      <td>10009</td>\n",
       "      <td>6</td>\n",
       "      <td>0</td>\n",
       "      <td>6</td>\n",
       "      <td>2369</td>\n",
       "      <td>4615</td>\n",
       "      <td>1900</td>\n",
       "      <td>2</td>\n",
       "      <td>C2</td>\n",
       "      <td>8000000</td>\n",
       "      <td>2016-11-17 00:00:00</td>\n",
       "    </tr>\n",
       "    <tr>\n",
       "      <td>5</td>\n",
       "      <td>9</td>\n",
       "      <td>1</td>\n",
       "      <td>ALPHABET CITY</td>\n",
       "      <td>07 RENTALS - WALKUP APARTMENTS</td>\n",
       "      <td>2</td>\n",
       "      <td>405</td>\n",
       "      <td>16</td>\n",
       "      <td></td>\n",
       "      <td>C4</td>\n",
       "      <td>516 EAST 12TH   STREET</td>\n",
       "      <td></td>\n",
       "      <td>10009</td>\n",
       "      <td>20</td>\n",
       "      <td>0</td>\n",
       "      <td>20</td>\n",
       "      <td>2581</td>\n",
       "      <td>9730</td>\n",
       "      <td>1900</td>\n",
       "      <td>2</td>\n",
       "      <td>C4</td>\n",
       "      <td>-</td>\n",
       "      <td>2017-07-20 00:00:00</td>\n",
       "    </tr>\n",
       "    <tr>\n",
       "      <td>6</td>\n",
       "      <td>10</td>\n",
       "      <td>1</td>\n",
       "      <td>ALPHABET CITY</td>\n",
       "      <td>07 RENTALS - WALKUP APARTMENTS</td>\n",
       "      <td>2B</td>\n",
       "      <td>406</td>\n",
       "      <td>32</td>\n",
       "      <td></td>\n",
       "      <td>C4</td>\n",
       "      <td>210 AVENUE B</td>\n",
       "      <td></td>\n",
       "      <td>10009</td>\n",
       "      <td>8</td>\n",
       "      <td>0</td>\n",
       "      <td>8</td>\n",
       "      <td>1750</td>\n",
       "      <td>4226</td>\n",
       "      <td>1920</td>\n",
       "      <td>2</td>\n",
       "      <td>C4</td>\n",
       "      <td>3192840</td>\n",
       "      <td>2016-09-23 00:00:00</td>\n",
       "    </tr>\n",
       "    <tr>\n",
       "      <td>7</td>\n",
       "      <td>11</td>\n",
       "      <td>1</td>\n",
       "      <td>ALPHABET CITY</td>\n",
       "      <td>07 RENTALS - WALKUP APARTMENTS</td>\n",
       "      <td>2</td>\n",
       "      <td>407</td>\n",
       "      <td>18</td>\n",
       "      <td></td>\n",
       "      <td>C7</td>\n",
       "      <td>520 EAST 14TH   STREET</td>\n",
       "      <td></td>\n",
       "      <td>10009</td>\n",
       "      <td>44</td>\n",
       "      <td>2</td>\n",
       "      <td>46</td>\n",
       "      <td>5163</td>\n",
       "      <td>21007</td>\n",
       "      <td>1900</td>\n",
       "      <td>2</td>\n",
       "      <td>C7</td>\n",
       "      <td>-</td>\n",
       "      <td>2017-07-20 00:00:00</td>\n",
       "    </tr>\n",
       "    <tr>\n",
       "      <td>8</td>\n",
       "      <td>12</td>\n",
       "      <td>1</td>\n",
       "      <td>ALPHABET CITY</td>\n",
       "      <td>08 RENTALS - ELEVATOR APARTMENTS</td>\n",
       "      <td>2</td>\n",
       "      <td>379</td>\n",
       "      <td>34</td>\n",
       "      <td></td>\n",
       "      <td>D5</td>\n",
       "      <td>141 AVENUE D</td>\n",
       "      <td></td>\n",
       "      <td>10009</td>\n",
       "      <td>15</td>\n",
       "      <td>0</td>\n",
       "      <td>15</td>\n",
       "      <td>1534</td>\n",
       "      <td>9198</td>\n",
       "      <td>1920</td>\n",
       "      <td>2</td>\n",
       "      <td>D5</td>\n",
       "      <td>-</td>\n",
       "      <td>2017-06-20 00:00:00</td>\n",
       "    </tr>\n",
       "    <tr>\n",
       "      <td>9</td>\n",
       "      <td>13</td>\n",
       "      <td>1</td>\n",
       "      <td>ALPHABET CITY</td>\n",
       "      <td>08 RENTALS - ELEVATOR APARTMENTS</td>\n",
       "      <td>2</td>\n",
       "      <td>387</td>\n",
       "      <td>153</td>\n",
       "      <td></td>\n",
       "      <td>D9</td>\n",
       "      <td>629 EAST 5TH STREET</td>\n",
       "      <td></td>\n",
       "      <td>10009</td>\n",
       "      <td>24</td>\n",
       "      <td>0</td>\n",
       "      <td>24</td>\n",
       "      <td>4489</td>\n",
       "      <td>18523</td>\n",
       "      <td>1920</td>\n",
       "      <td>2</td>\n",
       "      <td>D9</td>\n",
       "      <td>16232000</td>\n",
       "      <td>2016-11-07 00:00:00</td>\n",
       "    </tr>\n",
       "    <tr>\n",
       "      <td>10</td>\n",
       "      <td>14</td>\n",
       "      <td>1</td>\n",
       "      <td>ALPHABET CITY</td>\n",
       "      <td>08 RENTALS - ELEVATOR APARTMENTS</td>\n",
       "      <td>2</td>\n",
       "      <td>394</td>\n",
       "      <td>44</td>\n",
       "      <td></td>\n",
       "      <td>D7</td>\n",
       "      <td>181 AVENUE C</td>\n",
       "      <td></td>\n",
       "      <td>10009</td>\n",
       "      <td>30</td>\n",
       "      <td>4</td>\n",
       "      <td>34</td>\n",
       "      <td>4295</td>\n",
       "      <td>21328</td>\n",
       "      <td>1910</td>\n",
       "      <td>2</td>\n",
       "      <td>D7</td>\n",
       "      <td>-</td>\n",
       "      <td>2017-07-20 00:00:00</td>\n",
       "    </tr>\n",
       "    <tr>\n",
       "      <td>11</td>\n",
       "      <td>15</td>\n",
       "      <td>1</td>\n",
       "      <td>ALPHABET CITY</td>\n",
       "      <td>08 RENTALS - ELEVATOR APARTMENTS</td>\n",
       "      <td>2B</td>\n",
       "      <td>400</td>\n",
       "      <td>21</td>\n",
       "      <td></td>\n",
       "      <td>D1</td>\n",
       "      <td>530-532 EAST 5TH STREET</td>\n",
       "      <td></td>\n",
       "      <td>10009</td>\n",
       "      <td>10</td>\n",
       "      <td>0</td>\n",
       "      <td>10</td>\n",
       "      <td>3717</td>\n",
       "      <td>12350</td>\n",
       "      <td>2009</td>\n",
       "      <td>2</td>\n",
       "      <td>D1</td>\n",
       "      <td>10350000</td>\n",
       "      <td>2016-10-17 00:00:00</td>\n",
       "    </tr>\n",
       "    <tr>\n",
       "      <td>12</td>\n",
       "      <td>16</td>\n",
       "      <td>1</td>\n",
       "      <td>ALPHABET CITY</td>\n",
       "      <td>09 COOPS - WALKUP APARTMENTS</td>\n",
       "      <td>2</td>\n",
       "      <td>373</td>\n",
       "      <td>40</td>\n",
       "      <td></td>\n",
       "      <td>C6</td>\n",
       "      <td>327 EAST 3 STREET, 1C</td>\n",
       "      <td></td>\n",
       "      <td>10009</td>\n",
       "      <td>0</td>\n",
       "      <td>0</td>\n",
       "      <td>0</td>\n",
       "      <td>-</td>\n",
       "      <td>-</td>\n",
       "      <td>1920</td>\n",
       "      <td>2</td>\n",
       "      <td>C6</td>\n",
       "      <td>1</td>\n",
       "      <td>2016-09-06 00:00:00</td>\n",
       "    </tr>\n",
       "    <tr>\n",
       "      <td>13</td>\n",
       "      <td>17</td>\n",
       "      <td>1</td>\n",
       "      <td>ALPHABET CITY</td>\n",
       "      <td>09 COOPS - WALKUP APARTMENTS</td>\n",
       "      <td>2</td>\n",
       "      <td>373</td>\n",
       "      <td>40</td>\n",
       "      <td></td>\n",
       "      <td>C6</td>\n",
       "      <td>327 EAST 3 STREET, 1C</td>\n",
       "      <td></td>\n",
       "      <td>10009</td>\n",
       "      <td>0</td>\n",
       "      <td>0</td>\n",
       "      <td>0</td>\n",
       "      <td>-</td>\n",
       "      <td>-</td>\n",
       "      <td>1920</td>\n",
       "      <td>2</td>\n",
       "      <td>C6</td>\n",
       "      <td>499000</td>\n",
       "      <td>2017-03-10 00:00:00</td>\n",
       "    </tr>\n",
       "    <tr>\n",
       "      <td>14</td>\n",
       "      <td>18</td>\n",
       "      <td>1</td>\n",
       "      <td>ALPHABET CITY</td>\n",
       "      <td>09 COOPS - WALKUP APARTMENTS</td>\n",
       "      <td>2</td>\n",
       "      <td>373</td>\n",
       "      <td>40</td>\n",
       "      <td></td>\n",
       "      <td>C6</td>\n",
       "      <td>327 EAST 3 STREET, 3A</td>\n",
       "      <td></td>\n",
       "      <td>10009</td>\n",
       "      <td>0</td>\n",
       "      <td>0</td>\n",
       "      <td>0</td>\n",
       "      <td>-</td>\n",
       "      <td>-</td>\n",
       "      <td>1920</td>\n",
       "      <td>2</td>\n",
       "      <td>C6</td>\n",
       "      <td>10</td>\n",
       "      <td>2017-04-28 00:00:00</td>\n",
       "    </tr>\n",
       "  </tbody>\n",
       "</table>\n",
       "</div>"
      ],
      "text/plain": [
       "    Unnamed: 0  BOROUGH   NEIGHBORHOOD  \\\n",
       "0            4        1  ALPHABET CITY   \n",
       "1            5        1  ALPHABET CITY   \n",
       "2            6        1  ALPHABET CITY   \n",
       "3            7        1  ALPHABET CITY   \n",
       "4            8        1  ALPHABET CITY   \n",
       "5            9        1  ALPHABET CITY   \n",
       "6           10        1  ALPHABET CITY   \n",
       "7           11        1  ALPHABET CITY   \n",
       "8           12        1  ALPHABET CITY   \n",
       "9           13        1  ALPHABET CITY   \n",
       "10          14        1  ALPHABET CITY   \n",
       "11          15        1  ALPHABET CITY   \n",
       "12          16        1  ALPHABET CITY   \n",
       "13          17        1  ALPHABET CITY   \n",
       "14          18        1  ALPHABET CITY   \n",
       "\n",
       "                        BUILDING CLASS CATEGORY TAX CLASS AT PRESENT  BLOCK  \\\n",
       "0   07 RENTALS - WALKUP APARTMENTS                                2A    392   \n",
       "1   07 RENTALS - WALKUP APARTMENTS                                 2    399   \n",
       "2   07 RENTALS - WALKUP APARTMENTS                                 2    399   \n",
       "3   07 RENTALS - WALKUP APARTMENTS                                2B    402   \n",
       "4   07 RENTALS - WALKUP APARTMENTS                                2A    404   \n",
       "5   07 RENTALS - WALKUP APARTMENTS                                 2    405   \n",
       "6   07 RENTALS - WALKUP APARTMENTS                                2B    406   \n",
       "7   07 RENTALS - WALKUP APARTMENTS                                 2    407   \n",
       "8   08 RENTALS - ELEVATOR APARTMENTS                               2    379   \n",
       "9   08 RENTALS - ELEVATOR APARTMENTS                               2    387   \n",
       "10  08 RENTALS - ELEVATOR APARTMENTS                               2    394   \n",
       "11  08 RENTALS - ELEVATOR APARTMENTS                              2B    400   \n",
       "12  09 COOPS - WALKUP APARTMENTS                                   2    373   \n",
       "13  09 COOPS - WALKUP APARTMENTS                                   2    373   \n",
       "14  09 COOPS - WALKUP APARTMENTS                                   2    373   \n",
       "\n",
       "    LOT EASE-MENT BUILDING CLASS AT PRESENT                  ADDRESS  \\\n",
       "0     6                                  C2             153 AVENUE B   \n",
       "1    26                                  C7    234 EAST 4TH   STREET   \n",
       "2    39                                  C7    197 EAST 3RD   STREET   \n",
       "3    21                                  C4      154 EAST 7TH STREET   \n",
       "4    55                                  C2   301 EAST 10TH   STREET   \n",
       "5    16                                  C4   516 EAST 12TH   STREET   \n",
       "6    32                                  C4             210 AVENUE B   \n",
       "7    18                                  C7   520 EAST 14TH   STREET   \n",
       "8    34                                  D5             141 AVENUE D   \n",
       "9   153                                  D9      629 EAST 5TH STREET   \n",
       "10   44                                  D7             181 AVENUE C   \n",
       "11   21                                  D1  530-532 EAST 5TH STREET   \n",
       "12   40                                  C6    327 EAST 3 STREET, 1C   \n",
       "13   40                                  C6    327 EAST 3 STREET, 1C   \n",
       "14   40                                  C6    327 EAST 3 STREET, 3A   \n",
       "\n",
       "   APARTMENT NUMBER  ZIP CODE  RESIDENTIAL UNITS  COMMERCIAL UNITS  \\\n",
       "0                       10009                  5                 0   \n",
       "1                       10009                 28                 3   \n",
       "2                       10009                 16                 1   \n",
       "3                       10009                 10                 0   \n",
       "4                       10009                  6                 0   \n",
       "5                       10009                 20                 0   \n",
       "6                       10009                  8                 0   \n",
       "7                       10009                 44                 2   \n",
       "8                       10009                 15                 0   \n",
       "9                       10009                 24                 0   \n",
       "10                      10009                 30                 4   \n",
       "11                      10009                 10                 0   \n",
       "12                      10009                  0                 0   \n",
       "13                      10009                  0                 0   \n",
       "14                      10009                  0                 0   \n",
       "\n",
       "    TOTAL UNITS LAND SQUARE FEET GROSS SQUARE FEET  YEAR BUILT  \\\n",
       "0             5             1633              6440        1900   \n",
       "1            31             4616             18690        1900   \n",
       "2            17             2212              7803        1900   \n",
       "3            10             2272              6794        1913   \n",
       "4             6             2369              4615        1900   \n",
       "5            20             2581              9730        1900   \n",
       "6             8             1750              4226        1920   \n",
       "7            46             5163             21007        1900   \n",
       "8            15             1534              9198        1920   \n",
       "9            24             4489             18523        1920   \n",
       "10           34             4295             21328        1910   \n",
       "11           10             3717             12350        2009   \n",
       "12            0              -                 -          1920   \n",
       "13            0              -                 -          1920   \n",
       "14            0              -                 -          1920   \n",
       "\n",
       "    TAX CLASS AT TIME OF SALE BUILDING CLASS AT TIME OF SALE SALE PRICE  \\\n",
       "0                           2                             C2    6625000   \n",
       "1                           2                             C7        -     \n",
       "2                           2                             C7        -     \n",
       "3                           2                             C4    3936272   \n",
       "4                           2                             C2    8000000   \n",
       "5                           2                             C4        -     \n",
       "6                           2                             C4    3192840   \n",
       "7                           2                             C7        -     \n",
       "8                           2                             D5        -     \n",
       "9                           2                             D9   16232000   \n",
       "10                          2                             D7        -     \n",
       "11                          2                             D1   10350000   \n",
       "12                          2                             C6          1   \n",
       "13                          2                             C6     499000   \n",
       "14                          2                             C6         10   \n",
       "\n",
       "              SALE DATE  \n",
       "0   2017-07-19 00:00:00  \n",
       "1   2016-12-14 00:00:00  \n",
       "2   2016-12-09 00:00:00  \n",
       "3   2016-09-23 00:00:00  \n",
       "4   2016-11-17 00:00:00  \n",
       "5   2017-07-20 00:00:00  \n",
       "6   2016-09-23 00:00:00  \n",
       "7   2017-07-20 00:00:00  \n",
       "8   2017-06-20 00:00:00  \n",
       "9   2016-11-07 00:00:00  \n",
       "10  2017-07-20 00:00:00  \n",
       "11  2016-10-17 00:00:00  \n",
       "12  2016-09-06 00:00:00  \n",
       "13  2017-03-10 00:00:00  \n",
       "14  2017-04-28 00:00:00  "
      ]
     },
     "execution_count": 3,
     "metadata": {},
     "output_type": "execute_result"
    }
   ],
   "source": [
    "my_data = pd.read_csv(r\"C:\\Users\\Niranjan.p\\Documents\\GitHub\\Machine_Learning_USU\\Spring 2020\\HW data source\\HW regression- NY property sale\\nyc-rolling-sales.csv\")\n",
    "pd.set_option('display.max_rows',100) ## maximum number of rows the panda will display\n",
    "pd.set_option('display.max_columns',30)### for the visualization of all the columns\n",
    "my_data.head(15)"
   ]
  },
  {
   "cell_type": "markdown",
   "metadata": {},
   "source": [
    "### Inspecting data, changing and managing where required"
   ]
  },
  {
   "cell_type": "code",
   "execution_count": 4,
   "metadata": {},
   "outputs": [
    {
     "name": "stdout",
     "output_type": "stream",
     "text": [
      "<class 'pandas.core.frame.DataFrame'>\n",
      "RangeIndex: 84548 entries, 0 to 84547\n",
      "Data columns (total 22 columns):\n",
      "Unnamed: 0                        84548 non-null int64\n",
      "BOROUGH                           84548 non-null int64\n",
      "NEIGHBORHOOD                      84548 non-null object\n",
      "BUILDING CLASS CATEGORY           84548 non-null object\n",
      "TAX CLASS AT PRESENT              84548 non-null object\n",
      "BLOCK                             84548 non-null int64\n",
      "LOT                               84548 non-null int64\n",
      "EASE-MENT                         84548 non-null object\n",
      "BUILDING CLASS AT PRESENT         84548 non-null object\n",
      "ADDRESS                           84548 non-null object\n",
      "APARTMENT NUMBER                  84548 non-null object\n",
      "ZIP CODE                          84548 non-null int64\n",
      "RESIDENTIAL UNITS                 84548 non-null int64\n",
      "COMMERCIAL UNITS                  84548 non-null int64\n",
      "TOTAL UNITS                       84548 non-null int64\n",
      "LAND SQUARE FEET                  84548 non-null object\n",
      "GROSS SQUARE FEET                 84548 non-null object\n",
      "YEAR BUILT                        84548 non-null int64\n",
      "TAX CLASS AT TIME OF SALE         84548 non-null int64\n",
      "BUILDING CLASS AT TIME OF SALE    84548 non-null object\n",
      "SALE PRICE                        84548 non-null object\n",
      "SALE DATE                         84548 non-null object\n",
      "dtypes: int64(10), object(12)\n",
      "memory usage: 14.2+ MB\n"
     ]
    }
   ],
   "source": [
    "my_data.info()"
   ]
  },
  {
   "cell_type": "markdown",
   "metadata": {},
   "source": [
    "### The unamned column is just the serial number for differnt borough so removing it"
   ]
  },
  {
   "cell_type": "code",
   "execution_count": 5,
   "metadata": {},
   "outputs": [],
   "source": [
    "del my_data['Unnamed: 0']"
   ]
  },
  {
   "cell_type": "markdown",
   "metadata": {},
   "source": [
    "### Inspecting a colum EASE-MENT which looks like a empty one"
   ]
  },
  {
   "cell_type": "code",
   "execution_count": 6,
   "metadata": {},
   "outputs": [
    {
     "data": {
      "text/plain": [
       "count     84548\n",
       "unique        1\n",
       "top            \n",
       "freq      84548\n",
       "Name: EASE-MENT, dtype: object"
      ]
     },
     "execution_count": 6,
     "metadata": {},
     "output_type": "execute_result"
    }
   ],
   "source": [
    "my_data['EASE-MENT'].describe()"
   ]
  },
  {
   "cell_type": "markdown",
   "metadata": {},
   "source": [
    "The result above shows that there is only 1 type of information in the whole column and is same for all the rows(84585) so its basically empty."
   ]
  },
  {
   "cell_type": "code",
   "execution_count": 7,
   "metadata": {},
   "outputs": [],
   "source": [
    "del my_data['EASE-MENT']"
   ]
  },
  {
   "cell_type": "markdown",
   "metadata": {},
   "source": [
    "### Checking for duplicated rows"
   ]
  },
  {
   "cell_type": "code",
   "execution_count": 8,
   "metadata": {},
   "outputs": [
    {
     "data": {
      "text/plain": [
       "765"
      ]
     },
     "execution_count": 8,
     "metadata": {},
     "output_type": "execute_result"
    }
   ],
   "source": [
    "sum(my_data.duplicated())"
   ]
  },
  {
   "cell_type": "markdown",
   "metadata": {},
   "source": [
    "### Removing the duplicated datas"
   ]
  },
  {
   "cell_type": "code",
   "execution_count": 9,
   "metadata": {},
   "outputs": [],
   "source": [
    "my_data.drop_duplicates(keep='first',inplace=True)"
   ]
  },
  {
   "cell_type": "markdown",
   "metadata": {},
   "source": [
    "### Looking at data description"
   ]
  },
  {
   "cell_type": "code",
   "execution_count": 10,
   "metadata": {},
   "outputs": [
    {
     "data": {
      "text/html": [
       "<div>\n",
       "<style scoped>\n",
       "    .dataframe tbody tr th:only-of-type {\n",
       "        vertical-align: middle;\n",
       "    }\n",
       "\n",
       "    .dataframe tbody tr th {\n",
       "        vertical-align: top;\n",
       "    }\n",
       "\n",
       "    .dataframe thead th {\n",
       "        text-align: right;\n",
       "    }\n",
       "</style>\n",
       "<table border=\"1\" class=\"dataframe\">\n",
       "  <thead>\n",
       "    <tr style=\"text-align: right;\">\n",
       "      <th></th>\n",
       "      <th>BOROUGH</th>\n",
       "      <th>NEIGHBORHOOD</th>\n",
       "      <th>BUILDING CLASS CATEGORY</th>\n",
       "      <th>TAX CLASS AT PRESENT</th>\n",
       "      <th>BLOCK</th>\n",
       "      <th>LOT</th>\n",
       "      <th>BUILDING CLASS AT PRESENT</th>\n",
       "      <th>ADDRESS</th>\n",
       "      <th>APARTMENT NUMBER</th>\n",
       "      <th>ZIP CODE</th>\n",
       "      <th>RESIDENTIAL UNITS</th>\n",
       "      <th>COMMERCIAL UNITS</th>\n",
       "      <th>TOTAL UNITS</th>\n",
       "      <th>LAND SQUARE FEET</th>\n",
       "      <th>GROSS SQUARE FEET</th>\n",
       "      <th>YEAR BUILT</th>\n",
       "      <th>TAX CLASS AT TIME OF SALE</th>\n",
       "      <th>BUILDING CLASS AT TIME OF SALE</th>\n",
       "      <th>SALE PRICE</th>\n",
       "      <th>SALE DATE</th>\n",
       "    </tr>\n",
       "  </thead>\n",
       "  <tbody>\n",
       "    <tr>\n",
       "      <td>count</td>\n",
       "      <td>83783.000000</td>\n",
       "      <td>83783</td>\n",
       "      <td>83783</td>\n",
       "      <td>83783</td>\n",
       "      <td>83783.000000</td>\n",
       "      <td>83783.000000</td>\n",
       "      <td>83783</td>\n",
       "      <td>83783</td>\n",
       "      <td>83783</td>\n",
       "      <td>83783.000000</td>\n",
       "      <td>83783.000000</td>\n",
       "      <td>83783.000000</td>\n",
       "      <td>83783.000000</td>\n",
       "      <td>83783</td>\n",
       "      <td>83783</td>\n",
       "      <td>83783.000000</td>\n",
       "      <td>83783.000000</td>\n",
       "      <td>83783</td>\n",
       "      <td>83783</td>\n",
       "      <td>83783</td>\n",
       "    </tr>\n",
       "    <tr>\n",
       "      <td>unique</td>\n",
       "      <td>NaN</td>\n",
       "      <td>254</td>\n",
       "      <td>47</td>\n",
       "      <td>11</td>\n",
       "      <td>NaN</td>\n",
       "      <td>NaN</td>\n",
       "      <td>167</td>\n",
       "      <td>67563</td>\n",
       "      <td>3989</td>\n",
       "      <td>NaN</td>\n",
       "      <td>NaN</td>\n",
       "      <td>NaN</td>\n",
       "      <td>NaN</td>\n",
       "      <td>6062</td>\n",
       "      <td>5691</td>\n",
       "      <td>NaN</td>\n",
       "      <td>NaN</td>\n",
       "      <td>166</td>\n",
       "      <td>10008</td>\n",
       "      <td>364</td>\n",
       "    </tr>\n",
       "    <tr>\n",
       "      <td>top</td>\n",
       "      <td>NaN</td>\n",
       "      <td>FLUSHING-NORTH</td>\n",
       "      <td>01 ONE FAMILY DWELLINGS</td>\n",
       "      <td>1</td>\n",
       "      <td>NaN</td>\n",
       "      <td>NaN</td>\n",
       "      <td>D4</td>\n",
       "      <td>131-05 40TH   ROAD</td>\n",
       "      <td></td>\n",
       "      <td>NaN</td>\n",
       "      <td>NaN</td>\n",
       "      <td>NaN</td>\n",
       "      <td>NaN</td>\n",
       "      <td>-</td>\n",
       "      <td>-</td>\n",
       "      <td>NaN</td>\n",
       "      <td>NaN</td>\n",
       "      <td>R4</td>\n",
       "      <td>-</td>\n",
       "      <td>2017-06-29 00:00:00</td>\n",
       "    </tr>\n",
       "    <tr>\n",
       "      <td>freq</td>\n",
       "      <td>NaN</td>\n",
       "      <td>3058</td>\n",
       "      <td>18107</td>\n",
       "      <td>38329</td>\n",
       "      <td>NaN</td>\n",
       "      <td>NaN</td>\n",
       "      <td>12637</td>\n",
       "      <td>210</td>\n",
       "      <td>64934</td>\n",
       "      <td>NaN</td>\n",
       "      <td>NaN</td>\n",
       "      <td>NaN</td>\n",
       "      <td>NaN</td>\n",
       "      <td>26054</td>\n",
       "      <td>27385</td>\n",
       "      <td>NaN</td>\n",
       "      <td>NaN</td>\n",
       "      <td>12929</td>\n",
       "      <td>14176</td>\n",
       "      <td>541</td>\n",
       "    </tr>\n",
       "    <tr>\n",
       "      <td>mean</td>\n",
       "      <td>2.999308</td>\n",
       "      <td>NaN</td>\n",
       "      <td>NaN</td>\n",
       "      <td>NaN</td>\n",
       "      <td>4242.903155</td>\n",
       "      <td>376.137415</td>\n",
       "      <td>NaN</td>\n",
       "      <td>NaN</td>\n",
       "      <td>NaN</td>\n",
       "      <td>10733.236575</td>\n",
       "      <td>1.999976</td>\n",
       "      <td>0.183677</td>\n",
       "      <td>2.213504</td>\n",
       "      <td>NaN</td>\n",
       "      <td>NaN</td>\n",
       "      <td>1789.814318</td>\n",
       "      <td>1.654035</td>\n",
       "      <td>NaN</td>\n",
       "      <td>NaN</td>\n",
       "      <td>NaN</td>\n",
       "    </tr>\n",
       "    <tr>\n",
       "      <td>std</td>\n",
       "      <td>1.288668</td>\n",
       "      <td>NaN</td>\n",
       "      <td>NaN</td>\n",
       "      <td>NaN</td>\n",
       "      <td>3568.789482</td>\n",
       "      <td>658.021286</td>\n",
       "      <td>NaN</td>\n",
       "      <td>NaN</td>\n",
       "      <td>NaN</td>\n",
       "      <td>1289.764300</td>\n",
       "      <td>16.569118</td>\n",
       "      <td>8.576582</td>\n",
       "      <td>18.777727</td>\n",
       "      <td>NaN</td>\n",
       "      <td>NaN</td>\n",
       "      <td>536.565051</td>\n",
       "      <td>0.814588</td>\n",
       "      <td>NaN</td>\n",
       "      <td>NaN</td>\n",
       "      <td>NaN</td>\n",
       "    </tr>\n",
       "    <tr>\n",
       "      <td>min</td>\n",
       "      <td>1.000000</td>\n",
       "      <td>NaN</td>\n",
       "      <td>NaN</td>\n",
       "      <td>NaN</td>\n",
       "      <td>1.000000</td>\n",
       "      <td>1.000000</td>\n",
       "      <td>NaN</td>\n",
       "      <td>NaN</td>\n",
       "      <td>NaN</td>\n",
       "      <td>0.000000</td>\n",
       "      <td>0.000000</td>\n",
       "      <td>0.000000</td>\n",
       "      <td>0.000000</td>\n",
       "      <td>NaN</td>\n",
       "      <td>NaN</td>\n",
       "      <td>0.000000</td>\n",
       "      <td>1.000000</td>\n",
       "      <td>NaN</td>\n",
       "      <td>NaN</td>\n",
       "      <td>NaN</td>\n",
       "    </tr>\n",
       "    <tr>\n",
       "      <td>25%</td>\n",
       "      <td>2.000000</td>\n",
       "      <td>NaN</td>\n",
       "      <td>NaN</td>\n",
       "      <td>NaN</td>\n",
       "      <td>1326.000000</td>\n",
       "      <td>22.000000</td>\n",
       "      <td>NaN</td>\n",
       "      <td>NaN</td>\n",
       "      <td>NaN</td>\n",
       "      <td>10305.000000</td>\n",
       "      <td>0.000000</td>\n",
       "      <td>0.000000</td>\n",
       "      <td>1.000000</td>\n",
       "      <td>NaN</td>\n",
       "      <td>NaN</td>\n",
       "      <td>1920.000000</td>\n",
       "      <td>1.000000</td>\n",
       "      <td>NaN</td>\n",
       "      <td>NaN</td>\n",
       "      <td>NaN</td>\n",
       "    </tr>\n",
       "    <tr>\n",
       "      <td>50%</td>\n",
       "      <td>3.000000</td>\n",
       "      <td>NaN</td>\n",
       "      <td>NaN</td>\n",
       "      <td>NaN</td>\n",
       "      <td>3319.000000</td>\n",
       "      <td>50.000000</td>\n",
       "      <td>NaN</td>\n",
       "      <td>NaN</td>\n",
       "      <td>NaN</td>\n",
       "      <td>11209.000000</td>\n",
       "      <td>1.000000</td>\n",
       "      <td>0.000000</td>\n",
       "      <td>1.000000</td>\n",
       "      <td>NaN</td>\n",
       "      <td>NaN</td>\n",
       "      <td>1940.000000</td>\n",
       "      <td>2.000000</td>\n",
       "      <td>NaN</td>\n",
       "      <td>NaN</td>\n",
       "      <td>NaN</td>\n",
       "    </tr>\n",
       "    <tr>\n",
       "      <td>75%</td>\n",
       "      <td>4.000000</td>\n",
       "      <td>NaN</td>\n",
       "      <td>NaN</td>\n",
       "      <td>NaN</td>\n",
       "      <td>6295.000000</td>\n",
       "      <td>1001.000000</td>\n",
       "      <td>NaN</td>\n",
       "      <td>NaN</td>\n",
       "      <td>NaN</td>\n",
       "      <td>11357.000000</td>\n",
       "      <td>2.000000</td>\n",
       "      <td>0.000000</td>\n",
       "      <td>2.000000</td>\n",
       "      <td>NaN</td>\n",
       "      <td>NaN</td>\n",
       "      <td>1965.000000</td>\n",
       "      <td>2.000000</td>\n",
       "      <td>NaN</td>\n",
       "      <td>NaN</td>\n",
       "      <td>NaN</td>\n",
       "    </tr>\n",
       "    <tr>\n",
       "      <td>max</td>\n",
       "      <td>5.000000</td>\n",
       "      <td>NaN</td>\n",
       "      <td>NaN</td>\n",
       "      <td>NaN</td>\n",
       "      <td>16322.000000</td>\n",
       "      <td>9106.000000</td>\n",
       "      <td>NaN</td>\n",
       "      <td>NaN</td>\n",
       "      <td>NaN</td>\n",
       "      <td>11694.000000</td>\n",
       "      <td>1844.000000</td>\n",
       "      <td>2261.000000</td>\n",
       "      <td>2261.000000</td>\n",
       "      <td>NaN</td>\n",
       "      <td>NaN</td>\n",
       "      <td>2017.000000</td>\n",
       "      <td>4.000000</td>\n",
       "      <td>NaN</td>\n",
       "      <td>NaN</td>\n",
       "      <td>NaN</td>\n",
       "    </tr>\n",
       "  </tbody>\n",
       "</table>\n",
       "</div>"
      ],
      "text/plain": [
       "             BOROUGH    NEIGHBORHOOD  \\\n",
       "count   83783.000000           83783   \n",
       "unique           NaN             254   \n",
       "top              NaN  FLUSHING-NORTH   \n",
       "freq             NaN            3058   \n",
       "mean        2.999308             NaN   \n",
       "std         1.288668             NaN   \n",
       "min         1.000000             NaN   \n",
       "25%         2.000000             NaN   \n",
       "50%         3.000000             NaN   \n",
       "75%         4.000000             NaN   \n",
       "max         5.000000             NaN   \n",
       "\n",
       "                            BUILDING CLASS CATEGORY TAX CLASS AT PRESENT  \\\n",
       "count                                         83783                83783   \n",
       "unique                                           47                   11   \n",
       "top     01 ONE FAMILY DWELLINGS                                        1   \n",
       "freq                                          18107                38329   \n",
       "mean                                            NaN                  NaN   \n",
       "std                                             NaN                  NaN   \n",
       "min                                             NaN                  NaN   \n",
       "25%                                             NaN                  NaN   \n",
       "50%                                             NaN                  NaN   \n",
       "75%                                             NaN                  NaN   \n",
       "max                                             NaN                  NaN   \n",
       "\n",
       "               BLOCK           LOT BUILDING CLASS AT PRESENT  \\\n",
       "count   83783.000000  83783.000000                     83783   \n",
       "unique           NaN           NaN                       167   \n",
       "top              NaN           NaN                        D4   \n",
       "freq             NaN           NaN                     12637   \n",
       "mean     4242.903155    376.137415                       NaN   \n",
       "std      3568.789482    658.021286                       NaN   \n",
       "min         1.000000      1.000000                       NaN   \n",
       "25%      1326.000000     22.000000                       NaN   \n",
       "50%      3319.000000     50.000000                       NaN   \n",
       "75%      6295.000000   1001.000000                       NaN   \n",
       "max     16322.000000   9106.000000                       NaN   \n",
       "\n",
       "                   ADDRESS APARTMENT NUMBER      ZIP CODE  RESIDENTIAL UNITS  \\\n",
       "count                83783            83783  83783.000000       83783.000000   \n",
       "unique               67563             3989           NaN                NaN   \n",
       "top     131-05 40TH   ROAD                            NaN                NaN   \n",
       "freq                   210            64934           NaN                NaN   \n",
       "mean                   NaN              NaN  10733.236575           1.999976   \n",
       "std                    NaN              NaN   1289.764300          16.569118   \n",
       "min                    NaN              NaN      0.000000           0.000000   \n",
       "25%                    NaN              NaN  10305.000000           0.000000   \n",
       "50%                    NaN              NaN  11209.000000           1.000000   \n",
       "75%                    NaN              NaN  11357.000000           2.000000   \n",
       "max                    NaN              NaN  11694.000000        1844.000000   \n",
       "\n",
       "        COMMERCIAL UNITS   TOTAL UNITS LAND SQUARE FEET GROSS SQUARE FEET  \\\n",
       "count       83783.000000  83783.000000            83783             83783   \n",
       "unique               NaN           NaN             6062              5691   \n",
       "top                  NaN           NaN              -                 -     \n",
       "freq                 NaN           NaN            26054             27385   \n",
       "mean            0.183677      2.213504              NaN               NaN   \n",
       "std             8.576582     18.777727              NaN               NaN   \n",
       "min             0.000000      0.000000              NaN               NaN   \n",
       "25%             0.000000      1.000000              NaN               NaN   \n",
       "50%             0.000000      1.000000              NaN               NaN   \n",
       "75%             0.000000      2.000000              NaN               NaN   \n",
       "max          2261.000000   2261.000000              NaN               NaN   \n",
       "\n",
       "          YEAR BUILT  TAX CLASS AT TIME OF SALE  \\\n",
       "count   83783.000000               83783.000000   \n",
       "unique           NaN                        NaN   \n",
       "top              NaN                        NaN   \n",
       "freq             NaN                        NaN   \n",
       "mean     1789.814318                   1.654035   \n",
       "std       536.565051                   0.814588   \n",
       "min         0.000000                   1.000000   \n",
       "25%      1920.000000                   1.000000   \n",
       "50%      1940.000000                   2.000000   \n",
       "75%      1965.000000                   2.000000   \n",
       "max      2017.000000                   4.000000   \n",
       "\n",
       "       BUILDING CLASS AT TIME OF SALE SALE PRICE            SALE DATE  \n",
       "count                           83783      83783                83783  \n",
       "unique                            166      10008                  364  \n",
       "top                                R4        -    2017-06-29 00:00:00  \n",
       "freq                            12929      14176                  541  \n",
       "mean                              NaN        NaN                  NaN  \n",
       "std                               NaN        NaN                  NaN  \n",
       "min                               NaN        NaN                  NaN  \n",
       "25%                               NaN        NaN                  NaN  \n",
       "50%                               NaN        NaN                  NaN  \n",
       "75%                               NaN        NaN                  NaN  \n",
       "max                               NaN        NaN                  NaN  "
      ]
     },
     "execution_count": 10,
     "metadata": {},
     "output_type": "execute_result"
    }
   ],
   "source": [
    "my_data.describe(include='all')"
   ]
  },
  {
   "cell_type": "markdown",
   "metadata": {},
   "source": [
    "### Converting the type of some of the columns or variables"
   ]
  },
  {
   "cell_type": "code",
   "execution_count": 11,
   "metadata": {},
   "outputs": [],
   "source": [
    "my_data['BOROUGH']=my_data['BOROUGH'].astype('category')\n",
    "my_data['LAND SQUARE FEET']=pd.to_numeric(my_data['LAND SQUARE FEET'], errors='coerce') #errors-coerce to replace by Nan in invalid prashing\n",
    "my_data['GROSS SQUARE FEET']=pd.to_numeric(my_data['GROSS SQUARE FEET'], errors='coerce')\n",
    "my_data['SALE PRICE'] = pd.to_numeric(my_data['SALE PRICE'], errors='coerce')"
   ]
  },
  {
   "cell_type": "markdown",
   "metadata": {},
   "source": [
    "### Looking at the data dat variable and managing it."
   ]
  },
  {
   "cell_type": "code",
   "execution_count": 12,
   "metadata": {},
   "outputs": [],
   "source": [
    "my_data['SALE DATE'] = pd.to_datetime(my_data['SALE DATE']) "
   ]
  },
  {
   "cell_type": "code",
   "execution_count": 13,
   "metadata": {},
   "outputs": [
    {
     "data": {
      "text/html": [
       "<div>\n",
       "<style scoped>\n",
       "    .dataframe tbody tr th:only-of-type {\n",
       "        vertical-align: middle;\n",
       "    }\n",
       "\n",
       "    .dataframe tbody tr th {\n",
       "        vertical-align: top;\n",
       "    }\n",
       "\n",
       "    .dataframe thead th {\n",
       "        text-align: right;\n",
       "    }\n",
       "</style>\n",
       "<table border=\"1\" class=\"dataframe\">\n",
       "  <thead>\n",
       "    <tr style=\"text-align: right;\">\n",
       "      <th></th>\n",
       "      <th>BOROUGH</th>\n",
       "      <th>NEIGHBORHOOD</th>\n",
       "      <th>BUILDING CLASS CATEGORY</th>\n",
       "      <th>TAX CLASS AT PRESENT</th>\n",
       "      <th>BLOCK</th>\n",
       "      <th>LOT</th>\n",
       "      <th>BUILDING CLASS AT PRESENT</th>\n",
       "      <th>ADDRESS</th>\n",
       "      <th>APARTMENT NUMBER</th>\n",
       "      <th>ZIP CODE</th>\n",
       "      <th>RESIDENTIAL UNITS</th>\n",
       "      <th>COMMERCIAL UNITS</th>\n",
       "      <th>TOTAL UNITS</th>\n",
       "      <th>LAND SQUARE FEET</th>\n",
       "      <th>GROSS SQUARE FEET</th>\n",
       "      <th>YEAR BUILT</th>\n",
       "      <th>TAX CLASS AT TIME OF SALE</th>\n",
       "      <th>BUILDING CLASS AT TIME OF SALE</th>\n",
       "      <th>SALE PRICE</th>\n",
       "      <th>SALE DATE</th>\n",
       "    </tr>\n",
       "  </thead>\n",
       "  <tbody>\n",
       "    <tr>\n",
       "      <td>0</td>\n",
       "      <td>1</td>\n",
       "      <td>ALPHABET CITY</td>\n",
       "      <td>07 RENTALS - WALKUP APARTMENTS</td>\n",
       "      <td>2A</td>\n",
       "      <td>392</td>\n",
       "      <td>6</td>\n",
       "      <td>C2</td>\n",
       "      <td>153 AVENUE B</td>\n",
       "      <td></td>\n",
       "      <td>10009</td>\n",
       "      <td>5</td>\n",
       "      <td>0</td>\n",
       "      <td>5</td>\n",
       "      <td>1633.0</td>\n",
       "      <td>6440.0</td>\n",
       "      <td>1900</td>\n",
       "      <td>2</td>\n",
       "      <td>C2</td>\n",
       "      <td>6625000.0</td>\n",
       "      <td>2017-07-19</td>\n",
       "    </tr>\n",
       "    <tr>\n",
       "      <td>1</td>\n",
       "      <td>1</td>\n",
       "      <td>ALPHABET CITY</td>\n",
       "      <td>07 RENTALS - WALKUP APARTMENTS</td>\n",
       "      <td>2</td>\n",
       "      <td>399</td>\n",
       "      <td>26</td>\n",
       "      <td>C7</td>\n",
       "      <td>234 EAST 4TH   STREET</td>\n",
       "      <td></td>\n",
       "      <td>10009</td>\n",
       "      <td>28</td>\n",
       "      <td>3</td>\n",
       "      <td>31</td>\n",
       "      <td>4616.0</td>\n",
       "      <td>18690.0</td>\n",
       "      <td>1900</td>\n",
       "      <td>2</td>\n",
       "      <td>C7</td>\n",
       "      <td>NaN</td>\n",
       "      <td>2016-12-14</td>\n",
       "    </tr>\n",
       "    <tr>\n",
       "      <td>2</td>\n",
       "      <td>1</td>\n",
       "      <td>ALPHABET CITY</td>\n",
       "      <td>07 RENTALS - WALKUP APARTMENTS</td>\n",
       "      <td>2</td>\n",
       "      <td>399</td>\n",
       "      <td>39</td>\n",
       "      <td>C7</td>\n",
       "      <td>197 EAST 3RD   STREET</td>\n",
       "      <td></td>\n",
       "      <td>10009</td>\n",
       "      <td>16</td>\n",
       "      <td>1</td>\n",
       "      <td>17</td>\n",
       "      <td>2212.0</td>\n",
       "      <td>7803.0</td>\n",
       "      <td>1900</td>\n",
       "      <td>2</td>\n",
       "      <td>C7</td>\n",
       "      <td>NaN</td>\n",
       "      <td>2016-12-09</td>\n",
       "    </tr>\n",
       "    <tr>\n",
       "      <td>3</td>\n",
       "      <td>1</td>\n",
       "      <td>ALPHABET CITY</td>\n",
       "      <td>07 RENTALS - WALKUP APARTMENTS</td>\n",
       "      <td>2B</td>\n",
       "      <td>402</td>\n",
       "      <td>21</td>\n",
       "      <td>C4</td>\n",
       "      <td>154 EAST 7TH STREET</td>\n",
       "      <td></td>\n",
       "      <td>10009</td>\n",
       "      <td>10</td>\n",
       "      <td>0</td>\n",
       "      <td>10</td>\n",
       "      <td>2272.0</td>\n",
       "      <td>6794.0</td>\n",
       "      <td>1913</td>\n",
       "      <td>2</td>\n",
       "      <td>C4</td>\n",
       "      <td>3936272.0</td>\n",
       "      <td>2016-09-23</td>\n",
       "    </tr>\n",
       "    <tr>\n",
       "      <td>4</td>\n",
       "      <td>1</td>\n",
       "      <td>ALPHABET CITY</td>\n",
       "      <td>07 RENTALS - WALKUP APARTMENTS</td>\n",
       "      <td>2A</td>\n",
       "      <td>404</td>\n",
       "      <td>55</td>\n",
       "      <td>C2</td>\n",
       "      <td>301 EAST 10TH   STREET</td>\n",
       "      <td></td>\n",
       "      <td>10009</td>\n",
       "      <td>6</td>\n",
       "      <td>0</td>\n",
       "      <td>6</td>\n",
       "      <td>2369.0</td>\n",
       "      <td>4615.0</td>\n",
       "      <td>1900</td>\n",
       "      <td>2</td>\n",
       "      <td>C2</td>\n",
       "      <td>8000000.0</td>\n",
       "      <td>2016-11-17</td>\n",
       "    </tr>\n",
       "  </tbody>\n",
       "</table>\n",
       "</div>"
      ],
      "text/plain": [
       "  BOROUGH   NEIGHBORHOOD                      BUILDING CLASS CATEGORY  \\\n",
       "0       1  ALPHABET CITY  07 RENTALS - WALKUP APARTMENTS                \n",
       "1       1  ALPHABET CITY  07 RENTALS - WALKUP APARTMENTS                \n",
       "2       1  ALPHABET CITY  07 RENTALS - WALKUP APARTMENTS                \n",
       "3       1  ALPHABET CITY  07 RENTALS - WALKUP APARTMENTS                \n",
       "4       1  ALPHABET CITY  07 RENTALS - WALKUP APARTMENTS                \n",
       "\n",
       "  TAX CLASS AT PRESENT  BLOCK  LOT BUILDING CLASS AT PRESENT  \\\n",
       "0                   2A    392    6                        C2   \n",
       "1                    2    399   26                        C7   \n",
       "2                    2    399   39                        C7   \n",
       "3                   2B    402   21                        C4   \n",
       "4                   2A    404   55                        C2   \n",
       "\n",
       "                  ADDRESS APARTMENT NUMBER  ZIP CODE  RESIDENTIAL UNITS  \\\n",
       "0            153 AVENUE B                      10009                  5   \n",
       "1   234 EAST 4TH   STREET                      10009                 28   \n",
       "2   197 EAST 3RD   STREET                      10009                 16   \n",
       "3     154 EAST 7TH STREET                      10009                 10   \n",
       "4  301 EAST 10TH   STREET                      10009                  6   \n",
       "\n",
       "   COMMERCIAL UNITS  TOTAL UNITS  LAND SQUARE FEET  GROSS SQUARE FEET  \\\n",
       "0                 0            5            1633.0             6440.0   \n",
       "1                 3           31            4616.0            18690.0   \n",
       "2                 1           17            2212.0             7803.0   \n",
       "3                 0           10            2272.0             6794.0   \n",
       "4                 0            6            2369.0             4615.0   \n",
       "\n",
       "   YEAR BUILT  TAX CLASS AT TIME OF SALE BUILDING CLASS AT TIME OF SALE  \\\n",
       "0        1900                          2                             C2   \n",
       "1        1900                          2                             C7   \n",
       "2        1900                          2                             C7   \n",
       "3        1913                          2                             C4   \n",
       "4        1900                          2                             C2   \n",
       "\n",
       "   SALE PRICE  SALE DATE  \n",
       "0   6625000.0 2017-07-19  \n",
       "1         NaN 2016-12-14  \n",
       "2         NaN 2016-12-09  \n",
       "3   3936272.0 2016-09-23  \n",
       "4   8000000.0 2016-11-17  "
      ]
     },
     "execution_count": 13,
     "metadata": {},
     "output_type": "execute_result"
    }
   ],
   "source": [
    "my_data.head(5)"
   ]
  },
  {
   "cell_type": "code",
   "execution_count": 14,
   "metadata": {},
   "outputs": [
    {
     "name": "stdout",
     "output_type": "stream",
     "text": [
      "<class 'pandas.core.frame.DataFrame'>\n",
      "Int64Index: 83783 entries, 0 to 84547\n",
      "Data columns (total 20 columns):\n",
      "BOROUGH                           83783 non-null category\n",
      "NEIGHBORHOOD                      83783 non-null object\n",
      "BUILDING CLASS CATEGORY           83783 non-null object\n",
      "TAX CLASS AT PRESENT              83783 non-null object\n",
      "BLOCK                             83783 non-null int64\n",
      "LOT                               83783 non-null int64\n",
      "BUILDING CLASS AT PRESENT         83783 non-null object\n",
      "ADDRESS                           83783 non-null object\n",
      "APARTMENT NUMBER                  83783 non-null object\n",
      "ZIP CODE                          83783 non-null int64\n",
      "RESIDENTIAL UNITS                 83783 non-null int64\n",
      "COMMERCIAL UNITS                  83783 non-null int64\n",
      "TOTAL UNITS                       83783 non-null int64\n",
      "LAND SQUARE FEET                  57729 non-null float64\n",
      "GROSS SQUARE FEET                 56398 non-null float64\n",
      "YEAR BUILT                        83783 non-null int64\n",
      "TAX CLASS AT TIME OF SALE         83783 non-null int64\n",
      "BUILDING CLASS AT TIME OF SALE    83783 non-null object\n",
      "SALE PRICE                        69607 non-null float64\n",
      "SALE DATE                         83783 non-null datetime64[ns]\n",
      "dtypes: category(1), datetime64[ns](1), float64(3), int64(8), object(7)\n",
      "memory usage: 12.9+ MB\n"
     ]
    }
   ],
   "source": [
    "my_data.info()"
   ]
  },
  {
   "cell_type": "markdown",
   "metadata": {},
   "source": [
    "### Now in this part lets try to visualize and manipulate some of the numeric and categorical data"
   ]
  },
  {
   "cell_type": "markdown",
   "metadata": {},
   "source": [
    "First of checking the number of null values"
   ]
  },
  {
   "cell_type": "code",
   "execution_count": 15,
   "metadata": {},
   "outputs": [
    {
     "data": {
      "text/plain": [
       "BOROUGH                               0\n",
       "NEIGHBORHOOD                          0\n",
       "BUILDING CLASS CATEGORY               0\n",
       "TAX CLASS AT PRESENT                  0\n",
       "BLOCK                                 0\n",
       "LOT                                   0\n",
       "BUILDING CLASS AT PRESENT             0\n",
       "ADDRESS                               0\n",
       "APARTMENT NUMBER                      0\n",
       "ZIP CODE                              0\n",
       "RESIDENTIAL UNITS                     0\n",
       "COMMERCIAL UNITS                      0\n",
       "TOTAL UNITS                           0\n",
       "LAND SQUARE FEET                  26054\n",
       "GROSS SQUARE FEET                 27385\n",
       "YEAR BUILT                            0\n",
       "TAX CLASS AT TIME OF SALE             0\n",
       "BUILDING CLASS AT TIME OF SALE        0\n",
       "SALE PRICE                        14176\n",
       "SALE DATE                             0\n",
       "dtype: int64"
      ]
     },
     "execution_count": 15,
     "metadata": {},
     "output_type": "execute_result"
    }
   ],
   "source": [
    "my_data.isna().sum()"
   ]
  },
  {
   "cell_type": "code",
   "execution_count": 16,
   "metadata": {},
   "outputs": [
    {
     "data": {
      "text/plain": [
       "BOROUGH                           0.000000\n",
       "NEIGHBORHOOD                      0.000000\n",
       "BUILDING CLASS CATEGORY           0.000000\n",
       "TAX CLASS AT PRESENT              0.000000\n",
       "BLOCK                             0.000000\n",
       "LOT                               0.000000\n",
       "BUILDING CLASS AT PRESENT         0.000000\n",
       "ADDRESS                           0.000000\n",
       "APARTMENT NUMBER                  0.000000\n",
       "ZIP CODE                          0.000000\n",
       "RESIDENTIAL UNITS                 0.000000\n",
       "COMMERCIAL UNITS                  0.000000\n",
       "TOTAL UNITS                       0.000000\n",
       "LAND SQUARE FEET                  0.310970\n",
       "GROSS SQUARE FEET                 0.326856\n",
       "YEAR BUILT                        0.000000\n",
       "TAX CLASS AT TIME OF SALE         0.000000\n",
       "BUILDING CLASS AT TIME OF SALE    0.000000\n",
       "SALE PRICE                        0.169199\n",
       "SALE DATE                         0.000000\n",
       "dtype: float64"
      ]
     },
     "execution_count": 16,
     "metadata": {},
     "output_type": "execute_result"
    }
   ],
   "source": [
    "my_data.isna().sum()/len(my_data)"
   ]
  },
  {
   "cell_type": "code",
   "execution_count": 17,
   "metadata": {},
   "outputs": [
    {
     "data": {
      "text/html": [
       "<div>\n",
       "<style scoped>\n",
       "    .dataframe tbody tr th:only-of-type {\n",
       "        vertical-align: middle;\n",
       "    }\n",
       "\n",
       "    .dataframe tbody tr th {\n",
       "        vertical-align: top;\n",
       "    }\n",
       "\n",
       "    .dataframe thead th {\n",
       "        text-align: right;\n",
       "    }\n",
       "</style>\n",
       "<table border=\"1\" class=\"dataframe\">\n",
       "  <thead>\n",
       "    <tr style=\"text-align: right;\">\n",
       "      <th></th>\n",
       "      <th>BLOCK</th>\n",
       "      <th>LOT</th>\n",
       "      <th>ZIP CODE</th>\n",
       "      <th>RESIDENTIAL UNITS</th>\n",
       "      <th>COMMERCIAL UNITS</th>\n",
       "      <th>TOTAL UNITS</th>\n",
       "      <th>LAND SQUARE FEET</th>\n",
       "      <th>GROSS SQUARE FEET</th>\n",
       "      <th>YEAR BUILT</th>\n",
       "      <th>TAX CLASS AT TIME OF SALE</th>\n",
       "      <th>SALE PRICE</th>\n",
       "    </tr>\n",
       "  </thead>\n",
       "  <tbody>\n",
       "    <tr>\n",
       "      <td>count</td>\n",
       "      <td>83783.000000</td>\n",
       "      <td>83783.000000</td>\n",
       "      <td>83783.000000</td>\n",
       "      <td>83783.000000</td>\n",
       "      <td>83783.000000</td>\n",
       "      <td>83783.000000</td>\n",
       "      <td>5.772900e+04</td>\n",
       "      <td>5.639800e+04</td>\n",
       "      <td>83783.000000</td>\n",
       "      <td>83783.000000</td>\n",
       "      <td>6.960700e+04</td>\n",
       "    </tr>\n",
       "    <tr>\n",
       "      <td>mean</td>\n",
       "      <td>4242.903155</td>\n",
       "      <td>376.137415</td>\n",
       "      <td>10733.236575</td>\n",
       "      <td>1.999976</td>\n",
       "      <td>0.183677</td>\n",
       "      <td>2.213504</td>\n",
       "      <td>3.854481e+03</td>\n",
       "      <td>3.894416e+03</td>\n",
       "      <td>1789.814318</td>\n",
       "      <td>1.654035</td>\n",
       "      <td>1.280703e+06</td>\n",
       "    </tr>\n",
       "    <tr>\n",
       "      <td>std</td>\n",
       "      <td>3568.789482</td>\n",
       "      <td>658.021286</td>\n",
       "      <td>1289.764300</td>\n",
       "      <td>16.569118</td>\n",
       "      <td>8.576582</td>\n",
       "      <td>18.777727</td>\n",
       "      <td>4.154737e+04</td>\n",
       "      <td>3.483726e+04</td>\n",
       "      <td>536.565051</td>\n",
       "      <td>0.814588</td>\n",
       "      <td>1.143036e+07</td>\n",
       "    </tr>\n",
       "    <tr>\n",
       "      <td>min</td>\n",
       "      <td>1.000000</td>\n",
       "      <td>1.000000</td>\n",
       "      <td>0.000000</td>\n",
       "      <td>0.000000</td>\n",
       "      <td>0.000000</td>\n",
       "      <td>0.000000</td>\n",
       "      <td>0.000000e+00</td>\n",
       "      <td>0.000000e+00</td>\n",
       "      <td>0.000000</td>\n",
       "      <td>1.000000</td>\n",
       "      <td>0.000000e+00</td>\n",
       "    </tr>\n",
       "    <tr>\n",
       "      <td>25%</td>\n",
       "      <td>1326.000000</td>\n",
       "      <td>22.000000</td>\n",
       "      <td>10305.000000</td>\n",
       "      <td>0.000000</td>\n",
       "      <td>0.000000</td>\n",
       "      <td>1.000000</td>\n",
       "      <td>1.643000e+03</td>\n",
       "      <td>1.040000e+03</td>\n",
       "      <td>1920.000000</td>\n",
       "      <td>1.000000</td>\n",
       "      <td>2.300000e+05</td>\n",
       "    </tr>\n",
       "    <tr>\n",
       "      <td>50%</td>\n",
       "      <td>3319.000000</td>\n",
       "      <td>50.000000</td>\n",
       "      <td>11209.000000</td>\n",
       "      <td>1.000000</td>\n",
       "      <td>0.000000</td>\n",
       "      <td>1.000000</td>\n",
       "      <td>2.314000e+03</td>\n",
       "      <td>1.680000e+03</td>\n",
       "      <td>1940.000000</td>\n",
       "      <td>2.000000</td>\n",
       "      <td>5.330000e+05</td>\n",
       "    </tr>\n",
       "    <tr>\n",
       "      <td>75%</td>\n",
       "      <td>6295.000000</td>\n",
       "      <td>1001.000000</td>\n",
       "      <td>11357.000000</td>\n",
       "      <td>2.000000</td>\n",
       "      <td>0.000000</td>\n",
       "      <td>2.000000</td>\n",
       "      <td>3.500000e+03</td>\n",
       "      <td>2.552000e+03</td>\n",
       "      <td>1965.000000</td>\n",
       "      <td>2.000000</td>\n",
       "      <td>9.500000e+05</td>\n",
       "    </tr>\n",
       "    <tr>\n",
       "      <td>max</td>\n",
       "      <td>16322.000000</td>\n",
       "      <td>9106.000000</td>\n",
       "      <td>11694.000000</td>\n",
       "      <td>1844.000000</td>\n",
       "      <td>2261.000000</td>\n",
       "      <td>2261.000000</td>\n",
       "      <td>4.252327e+06</td>\n",
       "      <td>3.750565e+06</td>\n",
       "      <td>2017.000000</td>\n",
       "      <td>4.000000</td>\n",
       "      <td>2.210000e+09</td>\n",
       "    </tr>\n",
       "  </tbody>\n",
       "</table>\n",
       "</div>"
      ],
      "text/plain": [
       "              BLOCK           LOT      ZIP CODE  RESIDENTIAL UNITS  \\\n",
       "count  83783.000000  83783.000000  83783.000000       83783.000000   \n",
       "mean    4242.903155    376.137415  10733.236575           1.999976   \n",
       "std     3568.789482    658.021286   1289.764300          16.569118   \n",
       "min        1.000000      1.000000      0.000000           0.000000   \n",
       "25%     1326.000000     22.000000  10305.000000           0.000000   \n",
       "50%     3319.000000     50.000000  11209.000000           1.000000   \n",
       "75%     6295.000000   1001.000000  11357.000000           2.000000   \n",
       "max    16322.000000   9106.000000  11694.000000        1844.000000   \n",
       "\n",
       "       COMMERCIAL UNITS   TOTAL UNITS  LAND SQUARE FEET  GROSS SQUARE FEET  \\\n",
       "count      83783.000000  83783.000000      5.772900e+04       5.639800e+04   \n",
       "mean           0.183677      2.213504      3.854481e+03       3.894416e+03   \n",
       "std            8.576582     18.777727      4.154737e+04       3.483726e+04   \n",
       "min            0.000000      0.000000      0.000000e+00       0.000000e+00   \n",
       "25%            0.000000      1.000000      1.643000e+03       1.040000e+03   \n",
       "50%            0.000000      1.000000      2.314000e+03       1.680000e+03   \n",
       "75%            0.000000      2.000000      3.500000e+03       2.552000e+03   \n",
       "max         2261.000000   2261.000000      4.252327e+06       3.750565e+06   \n",
       "\n",
       "         YEAR BUILT  TAX CLASS AT TIME OF SALE    SALE PRICE  \n",
       "count  83783.000000               83783.000000  6.960700e+04  \n",
       "mean    1789.814318                   1.654035  1.280703e+06  \n",
       "std      536.565051                   0.814588  1.143036e+07  \n",
       "min        0.000000                   1.000000  0.000000e+00  \n",
       "25%     1920.000000                   1.000000  2.300000e+05  \n",
       "50%     1940.000000                   2.000000  5.330000e+05  \n",
       "75%     1965.000000                   2.000000  9.500000e+05  \n",
       "max     2017.000000                   4.000000  2.210000e+09  "
      ]
     },
     "execution_count": 17,
     "metadata": {},
     "output_type": "execute_result"
    }
   ],
   "source": [
    "my_data.describe()"
   ]
  },
  {
   "cell_type": "markdown",
   "metadata": {},
   "source": [
    "### Visualizing the NA values"
   ]
  },
  {
   "cell_type": "code",
   "execution_count": 18,
   "metadata": {},
   "outputs": [
    {
     "data": {
      "text/plain": [
       "<matplotlib.axes._subplots.AxesSubplot at 0x20b5958a588>"
      ]
     },
     "execution_count": 18,
     "metadata": {},
     "output_type": "execute_result"
    },
    {
     "data": {
      "image/png": "[encoded data removed]",
      "text/plain": [
       "<Figure size 792x720 with 1 Axes>"
      ]
     },
     "metadata": {
      "needs_background": "light"
     },
     "output_type": "display_data"
    }
   ],
   "source": [
    "plt.figure(figsize=(11,10))\n",
    "sns.heatmap(my_data.isnull(),yticklabels=False,cbar=False,cmap='viridis')"
   ]
  },
  {
   "cell_type": "markdown",
   "metadata": {},
   "source": [
    "### Dropping the rows with no gross, land square area or the ones having area less than 100 as it makes no sense\n",
    "##### (Alternatively these rows can be filled with mean, median or extrapolating values also if required).\n",
    "##### (The sales price which are not present (with Na) will not be dropped now as they can be used in test set for certain analysis)"
   ]
  },
  {
   "cell_type": "code",
   "execution_count": 19,
   "metadata": {},
   "outputs": [],
   "source": [
    "my_data= my_data.dropna(subset=['GROSS SQUARE FEET','LAND SQUARE FEET'])"
   ]
  },
  {
   "cell_type": "code",
   "execution_count": 20,
   "metadata": {},
   "outputs": [
    {
     "data": {
      "text/plain": [
       "56393"
      ]
     },
     "execution_count": 20,
     "metadata": {},
     "output_type": "execute_result"
    }
   ],
   "source": [
    "len(my_data)"
   ]
  },
  {
   "cell_type": "markdown",
   "metadata": {},
   "source": [
    "Again removing the rows with area less than 100 ft as they make no sense"
   ]
  },
  {
   "cell_type": "code",
   "execution_count": 21,
   "metadata": {},
   "outputs": [],
   "source": [
    "my_data = my_data[my_data['GROSS SQUARE FEET']>100]"
   ]
  },
  {
   "cell_type": "code",
   "execution_count": 22,
   "metadata": {},
   "outputs": [],
   "source": [
    "my_data= my_data[my_data['LAND SQUARE FEET']>100]"
   ]
  },
  {
   "cell_type": "markdown",
   "metadata": {},
   "source": [
    "### Replacing the sales value of Nan with zero for the time being"
   ]
  },
  {
   "cell_type": "code",
   "execution_count": 23,
   "metadata": {},
   "outputs": [],
   "source": [
    "my_data.loc[:, 'SALE PRICE'] = my_data.loc[:, 'SALE PRICE'].fillna('0')"
   ]
  },
  {
   "cell_type": "code",
   "execution_count": 24,
   "metadata": {},
   "outputs": [],
   "source": [
    "my_data['SALE PRICE'] = pd.to_numeric(my_data['SALE PRICE'], errors='coerce')"
   ]
  },
  {
   "cell_type": "markdown",
   "metadata": {},
   "source": [
    "### Visusalizing two area distribution"
   ]
  },
  {
   "cell_type": "code",
   "execution_count": 25,
   "metadata": {},
   "outputs": [
    {
     "data": {
      "text/plain": [
       "<matplotlib.axes._subplots.AxesSubplot at 0x20b596cbc88>"
      ]
     },
     "execution_count": 25,
     "metadata": {},
     "output_type": "execute_result"
    },
    {
     "data": {
      "image/png": "[encoded data removed]",
      "text/plain": [
       "<Figure size 864x720 with 1 Axes>"
      ]
     },
     "metadata": {
      "needs_background": "light"
     },
     "output_type": "display_data"
    }
   ],
   "source": [
    "plt.figure(figsize=(12,10))\n",
    "sns.scatterplot(x=my_data['LAND SQUARE FEET'], y=my_data['GROSS SQUARE FEET'])"
   ]
  },
  {
   "cell_type": "markdown",
   "metadata": {},
   "source": [
    "### Looking at the ZIP CODE variable"
   ]
  },
  {
   "cell_type": "code",
   "execution_count": 26,
   "metadata": {},
   "outputs": [
    {
     "data": {
      "text/plain": [
       "<matplotlib.axes._subplots.AxesSubplot at 0x20b5a0de488>"
      ]
     },
     "execution_count": 26,
     "metadata": {},
     "output_type": "execute_result"
    },
    {
     "data": {
      "image/png": "[encoded data removed]",
      "text/plain": [
       "<Figure size 864x720 with 1 Axes>"
      ]
     },
     "metadata": {
      "needs_background": "light"
     },
     "output_type": "display_data"
    }
   ],
   "source": [
    "plt.figure(figsize=(12,10))\n",
    "sns.boxplot(x=my_data['ZIP CODE'])\n"
   ]
  },
  {
   "cell_type": "markdown",
   "metadata": {},
   "source": [
    "Checking is the sales price alright where the zip code is zero or not"
   ]
  },
  {
   "cell_type": "code",
   "execution_count": 27,
   "metadata": {},
   "outputs": [
    {
     "data": {
      "text/plain": [
       "(array([ 2825, 38344, 38345, 43873], dtype=int64),)"
      ]
     },
     "execution_count": 27,
     "metadata": {},
     "output_type": "execute_result"
    }
   ],
   "source": [
    "((my_data['ZIP CODE']==0) & (my_data['SALE PRICE']==0)).to_numpy().nonzero()"
   ]
  },
  {
   "cell_type": "code",
   "execution_count": 28,
   "metadata": {},
   "outputs": [
    {
     "data": {
      "text/plain": [
       "BOROUGH                                                                     2\n",
       "NEIGHBORHOOD                                                      CITY ISLAND\n",
       "BUILDING CLASS CATEGORY           41 TAX CLASS 4 - OTHER                     \n",
       "TAX CLASS AT PRESENT                                                        4\n",
       "BLOCK                                                                    5648\n",
       "LOT                                                                       299\n",
       "BUILDING CLASS AT PRESENT                                                  Z9\n",
       "ADDRESS                                                       N/A KING AVENUE\n",
       "APARTMENT NUMBER                                                             \n",
       "ZIP CODE                                                                    0\n",
       "RESIDENTIAL UNITS                                                           0\n",
       "COMMERCIAL UNITS                                                            1\n",
       "TOTAL UNITS                                                                 1\n",
       "LAND SQUARE FEET                                                        20000\n",
       "GROSS SQUARE FEET                                                       10000\n",
       "YEAR BUILT                                                               1943\n",
       "TAX CLASS AT TIME OF SALE                                                   4\n",
       "BUILDING CLASS AT TIME OF SALE                                             Z9\n",
       "SALE PRICE                                                                  0\n",
       "SALE DATE                                                 2016-09-07 00:00:00\n",
       "Name: 19711, dtype: object"
      ]
     },
     "execution_count": 28,
     "metadata": {},
     "output_type": "execute_result"
    }
   ],
   "source": [
    "my_data.iloc[2825]"
   ]
  },
  {
   "cell_type": "markdown",
   "metadata": {},
   "source": [
    "Leaving zero zip codes as is it for now, so that we can remove the respective column if we will use zip code in the future analysis, or may be we can later convert it into categorical variable"
   ]
  },
  {
   "cell_type": "markdown",
   "metadata": {},
   "source": [
    "### Looking at YEAR BUILT variable"
   ]
  },
  {
   "cell_type": "code",
   "execution_count": 29,
   "metadata": {},
   "outputs": [
    {
     "data": {
      "text/plain": [
       "<matplotlib.axes._subplots.AxesSubplot at 0x20b5a19a148>"
      ]
     },
     "execution_count": 29,
     "metadata": {},
     "output_type": "execute_result"
    },
    {
     "data": {
      "image/png": "[encoded data removed]",
      "text/plain": [
       "<Figure size 864x720 with 1 Axes>"
      ]
     },
     "metadata": {
      "needs_background": "light"
     },
     "output_type": "display_data"
    }
   ],
   "source": [
    "plt.figure(figsize=(12,10))\n",
    "sns.boxplot(x=my_data['YEAR BUILT'])"
   ]
  },
  {
   "cell_type": "markdown",
   "metadata": {},
   "source": [
    "Again there are some observations with zero as a year built and some really very old houses. We can check the property sale value with how old the property is so removing year built wich are zero"
   ]
  },
  {
   "cell_type": "code",
   "execution_count": 30,
   "metadata": {},
   "outputs": [],
   "source": [
    "my_data=my_data[my_data['YEAR BUILT']>100]"
   ]
  },
  {
   "cell_type": "code",
   "execution_count": 31,
   "metadata": {},
   "outputs": [
    {
     "data": {
      "text/plain": [
       "<matplotlib.axes._subplots.AxesSubplot at 0x20b5a1a2248>"
      ]
     },
     "execution_count": 31,
     "metadata": {},
     "output_type": "execute_result"
    },
    {
     "data": {
      "image/png": "[encoded data removed]",
      "text/plain": [
       "<Figure size 864x720 with 1 Axes>"
      ]
     },
     "metadata": {
      "needs_background": "light"
     },
     "output_type": "display_data"
    }
   ],
   "source": [
    "plt.figure(figsize=(12,10))\n",
    "sns.boxplot(x=my_data['YEAR BUILT'])"
   ]
  },
  {
   "cell_type": "markdown",
   "metadata": {},
   "source": [
    "There are some observations befor 1700 which might be the case and their presence might have some relation with SALE PRICE so not discarding them for the moment"
   ]
  },
  {
   "cell_type": "markdown",
   "metadata": {},
   "source": [
    "### Inspecting the Residential, Commercial & Total units"
   ]
  },
  {
   "cell_type": "markdown",
   "metadata": {},
   "source": [
    "From the primary distribution of these data, the maximum value seems to be high enough to be outliers, but still these can be from tall skyscrapper or some units like them, so not discarding them at the moment."
   ]
  },
  {
   "cell_type": "markdown",
   "metadata": {},
   "source": [
    "Furthermore lets check to see if the sum of residential units and commercial units is total unit for all cases or not?"
   ]
  },
  {
   "cell_type": "code",
   "execution_count": 32,
   "metadata": {},
   "outputs": [
    {
     "data": {
      "text/plain": [
       "(array([   59,   872,  1179,  5072,  5967,  9785,  9934,  9938, 10887,\n",
       "        12455, 12771, 12773, 13877, 14324, 14419, 22728, 22730, 23142,\n",
       "        26823, 29249, 29413, 30072, 30323, 36507, 37065, 37445, 38986,\n",
       "        40880, 42844, 44462, 44693, 44699], dtype=int64),)"
      ]
     },
     "execution_count": 32,
     "metadata": {},
     "output_type": "execute_result"
    }
   ],
   "source": [
    "(my_data['TOTAL UNITS'] < my_data['RESIDENTIAL UNITS'] + my_data['COMMERCIAL UNITS']).to_numpy().nonzero()"
   ]
  },
  {
   "cell_type": "code",
   "execution_count": 33,
   "metadata": {},
   "outputs": [
    {
     "data": {
      "text/plain": [
       "BOROUGH                                                                     1\n",
       "NEIGHBORHOOD                                                          CHELSEA\n",
       "BUILDING CLASS CATEGORY           21 OFFICE BUILDINGS                        \n",
       "TAX CLASS AT PRESENT                                                        4\n",
       "BLOCK                                                                     790\n",
       "LOT                                                                        32\n",
       "BUILDING CLASS AT PRESENT                                                  O1\n",
       "ADDRESS                                            531-537 AVENUE OF THE AMER\n",
       "APARTMENT NUMBER                                                             \n",
       "ZIP CODE                                                                10011\n",
       "RESIDENTIAL UNITS                                                           1\n",
       "COMMERCIAL UNITS                                                            1\n",
       "TOTAL UNITS                                                                 1\n",
       "LAND SQUARE FEET                                                         6468\n",
       "GROSS SQUARE FEET                                                       14056\n",
       "YEAR BUILT                                                               1953\n",
       "TAX CLASS AT TIME OF SALE                                                   4\n",
       "BUILDING CLASS AT TIME OF SALE                                             O1\n",
       "SALE PRICE                                                           4.24e+07\n",
       "SALE DATE                                                 2017-04-18 00:00:00\n",
       "Name: 929, dtype: object"
      ]
     },
     "execution_count": 33,
     "metadata": {},
     "output_type": "execute_result"
    }
   ],
   "source": [
    "my_data.iloc[59]"
   ]
  },
  {
   "cell_type": "markdown",
   "metadata": {},
   "source": [
    "From above observations we cannot conclude them as wrong data but there might be one unit falling in both categories so we change the style of query"
   ]
  },
  {
   "cell_type": "markdown",
   "metadata": {},
   "source": [
    "The number of total units cannot be less than the number of individual units, so the new query as follow and removing those which might have errors"
   ]
  },
  {
   "cell_type": "code",
   "execution_count": 34,
   "metadata": {},
   "outputs": [
    {
     "data": {
      "text/plain": [
       "4"
      ]
     },
     "execution_count": 34,
     "metadata": {},
     "output_type": "execute_result"
    }
   ],
   "source": [
    "sum((my_data['TOTAL UNITS'] < my_data['RESIDENTIAL UNITS'] )| (my_data['TOTAL UNITS']< my_data['COMMERCIAL UNITS']))"
   ]
  },
  {
   "cell_type": "code",
   "execution_count": 35,
   "metadata": {},
   "outputs": [
    {
     "data": {
      "text/plain": [
       "(array([ 1179,  5072, 26823, 44462], dtype=int64),)"
      ]
     },
     "execution_count": 35,
     "metadata": {},
     "output_type": "execute_result"
    }
   ],
   "source": [
    "a= ((my_data['TOTAL UNITS'] < my_data['RESIDENTIAL UNITS'] ) | (my_data['TOTAL UNITS']< my_data['COMMERCIAL UNITS'])).to_numpy().nonzero()\n",
    "a"
   ]
  },
  {
   "cell_type": "code",
   "execution_count": 36,
   "metadata": {},
   "outputs": [
    {
     "data": {
      "text/plain": [
       "array([ 1179,  5072, 26823, 44462], dtype=int64)"
      ]
     },
     "execution_count": 36,
     "metadata": {},
     "output_type": "execute_result"
    }
   ],
   "source": [
    "j=a[0]\n",
    "j"
   ]
  },
  {
   "cell_type": "code",
   "execution_count": 37,
   "metadata": {},
   "outputs": [
    {
     "data": {
      "text/plain": [
       "BOROUGH                                                                     2\n",
       "NEIGHBORHOOD                                         SCHUYLERVILLE/PELHAM BAY\n",
       "BUILDING CLASS CATEGORY           21 OFFICE BUILDINGS                        \n",
       "TAX CLASS AT PRESENT                                                        4\n",
       "BLOCK                                                                    5306\n",
       "LOT                                                                        31\n",
       "BUILDING CLASS AT PRESENT                                                  O2\n",
       "ADDRESS                                              3394 EAST TREMONT AVENUE\n",
       "APARTMENT NUMBER                                                             \n",
       "ZIP CODE                                                                10461\n",
       "RESIDENTIAL UNITS                                                           3\n",
       "COMMERCIAL UNITS                                                            2\n",
       "TOTAL UNITS                                                                 2\n",
       "LAND SQUARE FEET                                                         4952\n",
       "GROSS SQUARE FEET                                                        4500\n",
       "YEAR BUILT                                                               1936\n",
       "TAX CLASS AT TIME OF SALE                                                   4\n",
       "BUILDING CLASS AT TIME OF SALE                                             O2\n",
       "SALE PRICE                                                             750000\n",
       "SALE DATE                                                 2017-02-07 00:00:00\n",
       "Name: 23587, dtype: object"
      ]
     },
     "execution_count": 37,
     "metadata": {},
     "output_type": "execute_result"
    }
   ],
   "source": [
    "my_data.iloc[5072]"
   ]
  },
  {
   "cell_type": "code",
   "execution_count": 38,
   "metadata": {},
   "outputs": [],
   "source": [
    "my_data = my_data.drop(my_data.index[[1179,5072,26823,44462]])"
   ]
  },
  {
   "cell_type": "code",
   "execution_count": 39,
   "metadata": {},
   "outputs": [
    {
     "data": {
      "text/plain": [
       "BOROUGH                                                                     2\n",
       "NEIGHBORHOOD                                         SCHUYLERVILLE/PELHAM BAY\n",
       "BUILDING CLASS CATEGORY           22 STORE BUILDINGS                         \n",
       "TAX CLASS AT PRESENT                                                        4\n",
       "BLOCK                                                                    4169\n",
       "LOT                                                                        32\n",
       "BUILDING CLASS AT PRESENT                                                  K1\n",
       "ADDRESS                                                    1717 CROSBY AVENUE\n",
       "APARTMENT NUMBER                                                             \n",
       "ZIP CODE                                                                10461\n",
       "RESIDENTIAL UNITS                                                           0\n",
       "COMMERCIAL UNITS                                                            1\n",
       "TOTAL UNITS                                                                 1\n",
       "LAND SQUARE FEET                                                         2397\n",
       "GROSS SQUARE FEET                                                        2236\n",
       "YEAR BUILT                                                               1952\n",
       "TAX CLASS AT TIME OF SALE                                                   4\n",
       "BUILDING CLASS AT TIME OF SALE                                             K1\n",
       "SALE PRICE                                                                  0\n",
       "SALE DATE                                                 2017-01-12 00:00:00\n",
       "Name: 23589, dtype: object"
      ]
     },
     "execution_count": 39,
     "metadata": {},
     "output_type": "execute_result"
    }
   ],
   "source": [
    "my_data.iloc[5072] ### Check if the value at index chnages or not"
   ]
  },
  {
   "cell_type": "markdown",
   "metadata": {},
   "source": [
    "Again there might be observations with total units equal to zero but there are zero residential and commercial units over there, we leave it as zero for now as it might be only land sale without unit"
   ]
  },
  {
   "cell_type": "markdown",
   "metadata": {},
   "source": [
    "### Check if there are empty strings in some other columns and replace with 'Missing' values for now "
   ]
  },
  {
   "cell_type": "code",
   "execution_count": 40,
   "metadata": {},
   "outputs": [
    {
     "name": "stdout",
     "output_type": "stream",
     "text": [
      "0\n"
     ]
    }
   ],
   "source": [
    "print((my_data['NEIGHBORHOOD']==' ').sum())"
   ]
  },
  {
   "cell_type": "code",
   "execution_count": 41,
   "metadata": {},
   "outputs": [
    {
     "name": "stdout",
     "output_type": "stream",
     "text": [
      "0\n"
     ]
    }
   ],
   "source": [
    "print((my_data['BUILDING CLASS CATEGORY']==' ').sum())"
   ]
  },
  {
   "cell_type": "code",
   "execution_count": 42,
   "metadata": {},
   "outputs": [
    {
     "name": "stdout",
     "output_type": "stream",
     "text": [
      "0\n"
     ]
    }
   ],
   "source": [
    "print((my_data['BUILDING CLASS AT PRESENT']==' ').sum())"
   ]
  },
  {
   "cell_type": "code",
   "execution_count": 43,
   "metadata": {},
   "outputs": [
    {
     "name": "stdout",
     "output_type": "stream",
     "text": [
      "44409\n"
     ]
    }
   ],
   "source": [
    "print((my_data['APARTMENT NUMBER']==' ').sum())"
   ]
  },
  {
   "cell_type": "code",
   "execution_count": 44,
   "metadata": {},
   "outputs": [
    {
     "name": "stdout",
     "output_type": "stream",
     "text": [
      "0\n"
     ]
    }
   ],
   "source": [
    "print((my_data['ADDRESS']==' ').sum())"
   ]
  },
  {
   "cell_type": "code",
   "execution_count": 45,
   "metadata": {},
   "outputs": [
    {
     "name": "stdout",
     "output_type": "stream",
     "text": [
      "0\n"
     ]
    }
   ],
   "source": [
    "print((my_data['BUILDING CLASS AT TIME OF SALE']==' ').sum())"
   ]
  },
  {
   "cell_type": "code",
   "execution_count": 46,
   "metadata": {},
   "outputs": [],
   "source": [
    "my_data['APARTMENT NUMBER']=my_data['APARTMENT NUMBER'].replace(' ','Missing')"
   ]
  },
  {
   "cell_type": "code",
   "execution_count": 47,
   "metadata": {},
   "outputs": [
    {
     "name": "stdout",
     "output_type": "stream",
     "text": [
      "<class 'pandas.core.frame.DataFrame'>\n",
      "Int64Index: 45000 entries, 0 to 84547\n",
      "Data columns (total 20 columns):\n",
      "BOROUGH                           45000 non-null category\n",
      "NEIGHBORHOOD                      45000 non-null object\n",
      "BUILDING CLASS CATEGORY           45000 non-null object\n",
      "TAX CLASS AT PRESENT              45000 non-null object\n",
      "BLOCK                             45000 non-null int64\n",
      "LOT                               45000 non-null int64\n",
      "BUILDING CLASS AT PRESENT         45000 non-null object\n",
      "ADDRESS                           45000 non-null object\n",
      "APARTMENT NUMBER                  45000 non-null object\n",
      "ZIP CODE                          45000 non-null int64\n",
      "RESIDENTIAL UNITS                 45000 non-null int64\n",
      "COMMERCIAL UNITS                  45000 non-null int64\n",
      "TOTAL UNITS                       45000 non-null int64\n",
      "LAND SQUARE FEET                  45000 non-null float64\n",
      "GROSS SQUARE FEET                 45000 non-null float64\n",
      "YEAR BUILT                        45000 non-null int64\n",
      "TAX CLASS AT TIME OF SALE         45000 non-null int64\n",
      "BUILDING CLASS AT TIME OF SALE    45000 non-null object\n",
      "SALE PRICE                        45000 non-null float64\n",
      "SALE DATE                         45000 non-null datetime64[ns]\n",
      "dtypes: category(1), datetime64[ns](1), float64(3), int64(8), object(7)\n",
      "memory usage: 6.9+ MB\n"
     ]
    }
   ],
   "source": [
    "my_data.info()"
   ]
  },
  {
   "cell_type": "markdown",
   "metadata": {},
   "source": [
    "In the initial data there were some adresses with possible apartment number after comma"
   ]
  },
  {
   "cell_type": "code",
   "execution_count": 48,
   "metadata": {},
   "outputs": [],
   "source": [
    "my_data['APT No']=my_data.ADDRESS.str.split(', ',expand=True)[1]# There is a space after comma"
   ]
  },
  {
   "cell_type": "code",
   "execution_count": 49,
   "metadata": {},
   "outputs": [],
   "source": [
    "my_data['ADDRESS']=my_data.ADDRESS.str.split(',',expand= True)[0]"
   ]
  },
  {
   "cell_type": "code",
   "execution_count": 50,
   "metadata": {},
   "outputs": [
    {
     "data": {
      "text/plain": [
       "count               1\n",
       "unique              1\n",
       "top       21ST STREET\n",
       "freq                1\n",
       "Name: APT No, dtype: object"
      ]
     },
     "execution_count": 50,
     "metadata": {},
     "output_type": "execute_result"
    }
   ],
   "source": [
    "my_data['APT No'].describe()"
   ]
  },
  {
   "cell_type": "markdown",
   "metadata": {},
   "source": [
    "After removing the data which were incomplete for the gross square feet and land square feet most of them have been elimated from the data. A quick visual review of orginal data  also suggest the same.So, just droping the new column"
   ]
  },
  {
   "cell_type": "code",
   "execution_count": 51,
   "metadata": {},
   "outputs": [],
   "source": [
    "my_data.drop('APT No', axis=1,inplace=True)"
   ]
  },
  {
   "cell_type": "markdown",
   "metadata": {},
   "source": [
    "Here is the code for seperating the apartment number and merging with existing apartment number column if those rows were not removed."
   ]
  },
  {
   "cell_type": "code",
   "execution_count": 52,
   "metadata": {},
   "outputs": [],
   "source": [
    "##my_data.loc[my_data['APT No'].isnull(), 'APT No'] = 'Missing'\n",
    "###a=np.nonzero((my_data['APT No']!='Missing') & (my_data['APARTMENT NUMBER']!='Missing'))\n",
    "###a\n",
    "#  j=a[0]\n",
    "# for i in range(5):\n",
    "#    k=j[i]\n",
    "#   my_data.iloc[k,20]='Missing'\n",
    "# ((my_data['APT No']!='Missing') & (my_data['APARTMENT NUMBER']!='Missing')).sum()\n",
    "# for i in range(len(my_data)):\n",
    "#    if my_data.iloc[i,20]=='Missing':\n",
    "#       my_data.iloc[i,20]=my_data.iloc[i,8]"
   ]
  },
  {
   "cell_type": "markdown",
   "metadata": {},
   "source": [
    "### Next we will try to visulaize and analyze the categorical and object(data) as much as possible"
   ]
  },
  {
   "cell_type": "markdown",
   "metadata": {},
   "source": [
    "#### First of all lets summarize the borough variable"
   ]
  },
  {
   "cell_type": "code",
   "execution_count": 53,
   "metadata": {},
   "outputs": [
    {
     "data": {
      "text/plain": [
       "<matplotlib.axes._subplots.AxesSubplot at 0x20b5a133648>"
      ]
     },
     "execution_count": 53,
     "metadata": {},
     "output_type": "execute_result"
    },
    {
     "data": {
      "image/png": "[encoded data removed]",
      "text/plain": [
       "<Figure size 432x288 with 1 Axes>"
      ]
     },
     "metadata": {
      "needs_background": "light"
     },
     "output_type": "display_data"
    }
   ],
   "source": [
    "sns.countplot(y='BOROUGH',data=my_data,order=my_data['BOROUGH'].value_counts().index)"
   ]
  },
  {
   "cell_type": "markdown",
   "metadata": {},
   "source": [
    "Looks fine enough from the general inspection lets move to Neighborhood variable"
   ]
  },
  {
   "cell_type": "code",
   "execution_count": 54,
   "metadata": {},
   "outputs": [
    {
     "data": {
      "text/plain": [
       "FLUSHING-NORTH              1297\n",
       "BEDFORD STUYVESANT          1023\n",
       "EAST NEW YORK                854\n",
       "BOROUGH PARK                 846\n",
       "ASTORIA                      762\n",
       "FLATBUSH-EAST                740\n",
       "RICHMOND HILL                725\n",
       "GREAT KILLS                  672\n",
       "BAYSIDE                      659\n",
       "CANARSIE                     655\n",
       "BUSHWICK                     641\n",
       "ST. ALBANS                   595\n",
       "SO. JAMAICA-BAISLEY PARK     586\n",
       "CROWN HEIGHTS                541\n",
       "SOUTH OZONE PARK             533\n",
       "OZONE PARK                   529\n",
       "QUEENS VILLAGE               529\n",
       "SPRINGFIELD GARDENS          513\n",
       "BENSONHURST                  486\n",
       "SOUTH JAMAICA                481\n",
       "FLUSHING-SOUTH               480\n",
       "BAY RIDGE                    480\n",
       "CORONA                       454\n",
       "HOLLIS                       451\n",
       "ELMHURST                     447\n",
       "SUNSET PARK                  438\n",
       "MIDDLE VILLAGE               435\n",
       "SHEEPSHEAD BAY               432\n",
       "GRAVESEND                    431\n",
       "JACKSON HEIGHTS              405\n",
       "WOODHAVEN                    402\n",
       "BAYCHESTER                   400\n",
       "WILLIAMSBRIDGE               398\n",
       "ROSEDALE                     390\n",
       "RIDGEWOOD                    382\n",
       "SOUNDVIEW                    371\n",
       "CYPRESS HILLS                369\n",
       "FLATBUSH-CENTRAL             361\n",
       "GLENDALE                     355\n",
       "WHITESTONE                   349\n",
       "OCEAN PARKWAY-NORTH          344\n",
       "MASPETH                      338\n",
       "ELTINGVILLE                  336\n",
       "OCEAN HILL                   327\n",
       "LAURELTON                    326\n",
       "MARINE PARK                  325\n",
       "COLLEGE POINT                324\n",
       "HOWARD BEACH                 320\n",
       "MIDWOOD                      312\n",
       "FLATBUSH-NORTH               309\n",
       "Name: NEIGHBORHOOD, dtype: int64"
      ]
     },
     "execution_count": 54,
     "metadata": {},
     "output_type": "execute_result"
    }
   ],
   "source": [
    "my_data['NEIGHBORHOOD'].value_counts().head(50)"
   ]
  },
  {
   "cell_type": "markdown",
   "metadata": {},
   "source": [
    "It seems like its inefficient to convert the data in categorical for now we leave it as it is. There are not significant frequency differences with differnt unique values"
   ]
  },
  {
   "cell_type": "markdown",
   "metadata": {},
   "source": [
    "### Lets work on 'Buiding Class Category' variable lets convert into the categorical data by selcting some top frequent categories,less frequent categories simplified under class 'Other'"
   ]
  },
  {
   "cell_type": "code",
   "execution_count": 55,
   "metadata": {},
   "outputs": [
    {
     "name": "stdout",
     "output_type": "stream",
     "text": [
      "01 ONE FAMILY DWELLINGS                         18023\n",
      "02 TWO FAMILY DWELLINGS                         15633\n",
      "03 THREE FAMILY DWELLINGS                        4318\n",
      "07 RENTALS - WALKUP APARTMENTS                   3372\n",
      "22 STORE BUILDINGS                                914\n",
      "14 RENTALS - 4-10 UNIT                            660\n",
      "08 RENTALS - ELEVATOR APARTMENTS                  357\n",
      "21 OFFICE BUILDINGS                               341\n",
      "30 WAREHOUSES                                     322\n",
      "29 COMMERCIAL GARAGES                             294\n",
      "27 FACTORIES                                      194\n",
      "37 RELIGIOUS FACILITIES                            96\n",
      "26 OTHER HOTELS                                    75\n",
      "33 EDUCATIONAL FACILITIES                          68\n",
      "32 HOSPITAL AND HEALTH FACILITIES                  57\n",
      "23 LOFT BUILDINGS                                  44\n",
      "10 COOPS - ELEVATOR APARTMENTS                     43\n",
      "41 TAX CLASS 4 - OTHER                             36\n",
      "35 INDOOR PUBLIC AND CULTURAL FACILITIES           30\n",
      "38 ASYLUMS AND HOMES                               25\n",
      "06 TAX CLASS 1 - OTHER                             24\n",
      "09 COOPS - WALKUP APARTMENTS                       19\n",
      "05 TAX CLASS 1 VACANT LAND                         14\n",
      "11A CONDO-RENTALS                                  13\n",
      "34 THEATRES                                        10\n",
      "25 LUXURY HOTELS                                   10\n",
      "31 COMMERCIAL VACANT LAND                           2\n",
      "11 SPECIAL CONDO BILLING LOTS                       2\n",
      "40 SELECTED GOVERNMENTAL FACILITIES                 2\n",
      "17 CONDO COOPS                                      1\n",
      "36 OUTDOOR RECREATIONAL FACILITIES                  1\n",
      "Name: BUILDING CLASS CATEGORY, dtype: int64\n"
     ]
    }
   ],
   "source": [
    "temp = my_data['BUILDING CLASS CATEGORY'].value_counts()\n",
    "print(temp)"
   ]
  },
  {
   "cell_type": "code",
   "execution_count": 56,
   "metadata": {},
   "outputs": [
    {
     "name": "stdout",
     "output_type": "stream",
     "text": [
      "Index(['01 ONE FAMILY DWELLINGS                    ',\n",
      "       '02 TWO FAMILY DWELLINGS                    ',\n",
      "       '03 THREE FAMILY DWELLINGS                  ',\n",
      "       '07 RENTALS - WALKUP APARTMENTS             ',\n",
      "       '22 STORE BUILDINGS                         ',\n",
      "       '14 RENTALS - 4-10 UNIT                     '],\n",
      "      dtype='object')\n"
     ]
    }
   ],
   "source": [
    "temp1 = temp[:6].index # Getting top 6 values\n",
    "print(temp1)"
   ]
  },
  {
   "cell_type": "code",
   "execution_count": 57,
   "metadata": {},
   "outputs": [],
   "source": [
    "my_data['BUILDING CLASS CATEGORY'] = my_data['BUILDING CLASS CATEGORY'].where(my_data['BUILDING CLASS CATEGORY'].isin(temp1),'Other')\n",
    "### The above step assigns other to less frequent categories beside the top 6 mentioned above"
   ]
  },
  {
   "cell_type": "code",
   "execution_count": 58,
   "metadata": {},
   "outputs": [],
   "source": [
    "my_data['BUILDING CLASS CATEGORY']=my_data['BUILDING CLASS CATEGORY'].astype('category')"
   ]
  },
  {
   "cell_type": "code",
   "execution_count": 59,
   "metadata": {},
   "outputs": [
    {
     "data": {
      "text/plain": [
       "01 ONE FAMILY DWELLINGS                        18023\n",
       "02 TWO FAMILY DWELLINGS                        15633\n",
       "03 THREE FAMILY DWELLINGS                       4318\n",
       "07 RENTALS - WALKUP APARTMENTS                  3372\n",
       "Other                                           2080\n",
       "22 STORE BUILDINGS                               914\n",
       "14 RENTALS - 4-10 UNIT                           660\n",
       "Name: BUILDING CLASS CATEGORY, dtype: int64"
      ]
     },
     "execution_count": 59,
     "metadata": {},
     "output_type": "execute_result"
    }
   ],
   "source": [
    "my_data['BUILDING CLASS CATEGORY'].value_counts()"
   ]
  },
  {
   "cell_type": "markdown",
   "metadata": {},
   "source": [
    "Next lets look at Tax Class at Present"
   ]
  },
  {
   "cell_type": "code",
   "execution_count": 60,
   "metadata": {},
   "outputs": [
    {
     "data": {
      "text/plain": [
       "1     38014\n",
       "4      2516\n",
       "2A     2481\n",
       "2      1198\n",
       "2B      783\n",
       "2C        8\n",
       "Name: TAX CLASS AT PRESENT, dtype: int64"
      ]
     },
     "execution_count": 60,
     "metadata": {},
     "output_type": "execute_result"
    }
   ],
   "source": [
    "my_data['TAX CLASS AT PRESENT'].value_counts()"
   ]
  },
  {
   "cell_type": "markdown",
   "metadata": {},
   "source": [
    "There were few other categories initially but along with the cleaning of data these categories might have been reduced"
   ]
  },
  {
   "cell_type": "markdown",
   "metadata": {},
   "source": [
    "Same process of seperating into high frequent category as above."
   ]
  },
  {
   "cell_type": "code",
   "execution_count": 61,
   "metadata": {},
   "outputs": [],
   "source": [
    "temp = my_data['TAX CLASS AT PRESENT'].value_counts()"
   ]
  },
  {
   "cell_type": "code",
   "execution_count": 62,
   "metadata": {},
   "outputs": [],
   "source": [
    "temp1 = temp[:4].index # Getting top 4 values"
   ]
  },
  {
   "cell_type": "code",
   "execution_count": 63,
   "metadata": {},
   "outputs": [],
   "source": [
    "my_data['TAX CLASS AT PRESENT'] = my_data['TAX CLASS AT PRESENT'].where(my_data['TAX CLASS AT PRESENT'].isin(temp1),'2B & 2C')"
   ]
  },
  {
   "cell_type": "code",
   "execution_count": 64,
   "metadata": {},
   "outputs": [],
   "source": [
    "my_data['TAX CLASS AT PRESENT'] = my_data['TAX CLASS AT PRESENT'].astype('category')"
   ]
  },
  {
   "cell_type": "markdown",
   "metadata": {},
   "source": [
    "### Lets look at the BUILDING CLASS AT PRESENT variable "
   ]
  },
  {
   "cell_type": "code",
   "execution_count": 65,
   "metadata": {},
   "outputs": [
    {
     "data": {
      "text/plain": [
       "A1    6690\n",
       "A5    5595\n",
       "B2    4831\n",
       "B1    4695\n",
       "C0    4314\n",
       "B3    3800\n",
       "A2    2800\n",
       "B9    1523\n",
       "A9    1390\n",
       "C3    1087\n",
       "C1     804\n",
       "C2     799\n",
       "S2     796\n",
       "A0     469\n",
       "A3     379\n",
       "K1     356\n",
       "S1     352\n",
       "C7     330\n",
       "K4     324\n",
       "A4     228\n",
       "S9     224\n",
       "E1     217\n",
       "S3     182\n",
       "K2     172\n",
       "C4     172\n",
       "Name: BUILDING CLASS AT PRESENT, dtype: int64"
      ]
     },
     "execution_count": 65,
     "metadata": {},
     "output_type": "execute_result"
    }
   ],
   "source": [
    "my_data['BUILDING CLASS AT PRESENT'].value_counts().head(25)"
   ]
  },
  {
   "cell_type": "markdown",
   "metadata": {},
   "source": [
    "Similar steps as above variables are to be followed."
   ]
  },
  {
   "cell_type": "code",
   "execution_count": 66,
   "metadata": {},
   "outputs": [],
   "source": [
    "temp = my_data['BUILDING CLASS AT PRESENT'].value_counts()"
   ]
  },
  {
   "cell_type": "code",
   "execution_count": 67,
   "metadata": {},
   "outputs": [],
   "source": [
    "temp1 = temp[:10].index # Getting top 10 values"
   ]
  },
  {
   "cell_type": "code",
   "execution_count": 68,
   "metadata": {},
   "outputs": [],
   "source": [
    "my_data['BUILDING CLASS AT PRESENT'] = my_data['BUILDING CLASS AT PRESENT'].where(my_data['BUILDING CLASS AT PRESENT'].isin(temp1),'Other')"
   ]
  },
  {
   "cell_type": "code",
   "execution_count": 69,
   "metadata": {},
   "outputs": [],
   "source": [
    "my_data['BUILDING CLASS AT PRESENT'] = my_data['BUILDING CLASS AT PRESENT'].astype('category')"
   ]
  },
  {
   "cell_type": "markdown",
   "metadata": {},
   "source": [
    "### Next we will look at TAX CLASS AT THE TIME OF SALE"
   ]
  },
  {
   "cell_type": "code",
   "execution_count": 70,
   "metadata": {},
   "outputs": [
    {
     "data": {
      "text/plain": [
       "1    38012\n",
       "2     4467\n",
       "4     2521\n",
       "Name: TAX CLASS AT TIME OF SALE, dtype: int64"
      ]
     },
     "execution_count": 70,
     "metadata": {},
     "output_type": "execute_result"
    }
   ],
   "source": [
    "my_data['TAX CLASS AT TIME OF SALE'].value_counts()"
   ]
  },
  {
   "cell_type": "code",
   "execution_count": 71,
   "metadata": {},
   "outputs": [],
   "source": [
    "my_data['TAX CLASS AT TIME OF SALE']=my_data['TAX CLASS AT TIME OF SALE'].astype('category')"
   ]
  },
  {
   "cell_type": "markdown",
   "metadata": {},
   "source": [
    "### Next we will looka t BUILDING CLASS AT TIME OF SALE"
   ]
  },
  {
   "cell_type": "code",
   "execution_count": 72,
   "metadata": {},
   "outputs": [
    {
     "data": {
      "text/plain": [
       "A1    6685\n",
       "A5    5582\n",
       "B2    4826\n",
       "B1    4692\n",
       "C0    4318\n",
       "B3    3796\n",
       "A2    2840\n",
       "B9    1522\n",
       "A9    1404\n",
       "C3    1089\n",
       "C1     804\n",
       "C2     799\n",
       "S2     797\n",
       "A0     429\n",
       "A3     378\n",
       "S1     353\n",
       "K1     353\n",
       "C7     329\n",
       "K4     325\n",
       "A4     227\n",
       "S9     224\n",
       "E1     217\n",
       "S3     182\n",
       "K2     171\n",
       "C4     171\n",
       "Name: BUILDING CLASS AT TIME OF SALE, dtype: int64"
      ]
     },
     "execution_count": 72,
     "metadata": {},
     "output_type": "execute_result"
    }
   ],
   "source": [
    "my_data['BUILDING CLASS AT TIME OF SALE'].value_counts().head(25)"
   ]
  },
  {
   "cell_type": "code",
   "execution_count": 73,
   "metadata": {},
   "outputs": [],
   "source": [
    "temp = my_data['BUILDING CLASS AT TIME OF SALE'].value_counts()"
   ]
  },
  {
   "cell_type": "code",
   "execution_count": 74,
   "metadata": {},
   "outputs": [],
   "source": [
    "temp1 = temp[:10].index # Getting top 10 values"
   ]
  },
  {
   "cell_type": "code",
   "execution_count": 75,
   "metadata": {},
   "outputs": [],
   "source": [
    "my_data['BUILDING CLASS AT TIME OF SALE'] = my_data['BUILDING CLASS AT TIME OF SALE'].where(my_data['BUILDING CLASS AT TIME OF SALE'].isin(temp1),'Other')"
   ]
  },
  {
   "cell_type": "code",
   "execution_count": 76,
   "metadata": {},
   "outputs": [],
   "source": [
    "my_data['BUILDING CLASS AT TIME OF SALE'] = my_data['BUILDING CLASS AT TIME OF SALE'].astype('category')"
   ]
  },
  {
   "cell_type": "code",
   "execution_count": 77,
   "metadata": {},
   "outputs": [
    {
     "data": {
      "text/plain": [
       "Other    8246\n",
       "A1       6685\n",
       "A5       5582\n",
       "B2       4826\n",
       "B1       4692\n",
       "C0       4318\n",
       "B3       3796\n",
       "A2       2840\n",
       "B9       1522\n",
       "A9       1404\n",
       "C3       1089\n",
       "Name: BUILDING CLASS AT TIME OF SALE, dtype: int64"
      ]
     },
     "execution_count": 77,
     "metadata": {},
     "output_type": "execute_result"
    }
   ],
   "source": [
    "my_data['BUILDING CLASS AT TIME OF SALE'].value_counts()"
   ]
  },
  {
   "cell_type": "markdown",
   "metadata": {},
   "source": [
    "### Lets again look back to ZIP CODE Variable"
   ]
  },
  {
   "cell_type": "code",
   "execution_count": 78,
   "metadata": {},
   "outputs": [
    {
     "data": {
      "text/plain": [
       "10314    1197\n",
       "11234    1024\n",
       "10312    1008\n",
       "10306     901\n",
       "11207     720\n",
       "11385     714\n",
       "11208     688\n",
       "11434     680\n",
       "11221     666\n",
       "11236     660\n",
       "10469     634\n",
       "10305     592\n",
       "11203     581\n",
       "11229     577\n",
       "11204     574\n",
       "11420     553\n",
       "10309     530\n",
       "11413     524\n",
       "11233     521\n",
       "11223     518\n",
       "10304     513\n",
       "11412     510\n",
       "10466     507\n",
       "11357     504\n",
       "11219     473\n",
       "Name: ZIP CODE, dtype: int64"
      ]
     },
     "execution_count": 78,
     "metadata": {},
     "output_type": "execute_result"
    }
   ],
   "source": [
    "my_data['ZIP CODE'].value_counts().head(25)"
   ]
  },
  {
   "cell_type": "markdown",
   "metadata": {},
   "source": [
    "To make it a categorical data, first we should understand how the zip code is associated with a place, so leaving it as it is for now."
   ]
  },
  {
   "cell_type": "markdown",
   "metadata": {},
   "source": [
    "#### Final note\n",
    "The SALE PRICE variable with Nan has been converted to zero and there are other sale price which are zero or which are less than some reasonable values, these can be splitted into test sets."
   ]
  },
  {
   "cell_type": "markdown",
   "metadata": {},
   "source": [
    "The area values less than certain number and missing values have been removed from the data, another method would have been to adjust using the mean or median or so on which we didinot do in this data analysis."
   ]
  },
  {
   "cell_type": "markdown",
   "metadata": {},
   "source": [
    "Correlation is not a big concren for our preliminary data because correlation doesnot matter in machine learning as far as i know."
   ]
  },
  {
   "cell_type": "markdown",
   "metadata": {},
   "source": [
    "### Checking sale price data for now"
   ]
  },
  {
   "cell_type": "code",
   "execution_count": 79,
   "metadata": {},
   "outputs": [
    {
     "data": {
      "text/plain": [
       "17114"
      ]
     },
     "execution_count": 79,
     "metadata": {},
     "output_type": "execute_result"
    }
   ],
   "source": [
    "(my_data['SALE PRICE']<100000).sum()"
   ]
  },
  {
   "cell_type": "code",
   "execution_count": 80,
   "metadata": {},
   "outputs": [
    {
     "data": {
      "text/plain": [
       "16681"
      ]
     },
     "execution_count": 80,
     "metadata": {},
     "output_type": "execute_result"
    }
   ],
   "source": [
    "(my_data['SALE PRICE']<10000).sum()"
   ]
  },
  {
   "cell_type": "code",
   "execution_count": 81,
   "metadata": {},
   "outputs": [
    {
     "data": {
      "text/plain": [
       "45000"
      ]
     },
     "execution_count": 81,
     "metadata": {},
     "output_type": "execute_result"
    }
   ],
   "source": [
    "len(my_data)"
   ]
  },
  {
   "cell_type": "markdown",
   "metadata": {},
   "source": [
    "Removing the data reduces the data by much so leaving it as it is for now."
   ]
  },
  {
   "cell_type": "markdown",
   "metadata": {},
   "source": [
    "### Saving the dataframe to csv"
   ]
  },
  {
   "cell_type": "code",
   "execution_count": 82,
   "metadata": {},
   "outputs": [],
   "source": [
    "my_data.to_csv(r'C:\\Users\\Niranjan.p\\Desktop\\Home work and assignments\\machine learning\\my_data.csv')\n"
   ]
  },
  {
   "cell_type": "code",
   "execution_count": 83,
   "metadata": {},
   "outputs": [
    {
     "data": {
      "text/html": [
       "<div>\n",
       "<style scoped>\n",
       "    .dataframe tbody tr th:only-of-type {\n",
       "        vertical-align: middle;\n",
       "    }\n",
       "\n",
       "    .dataframe tbody tr th {\n",
       "        vertical-align: top;\n",
       "    }\n",
       "\n",
       "    .dataframe thead th {\n",
       "        text-align: right;\n",
       "    }\n",
       "</style>\n",
       "<table border=\"1\" class=\"dataframe\">\n",
       "  <thead>\n",
       "    <tr style=\"text-align: right;\">\n",
       "      <th></th>\n",
       "      <th>BOROUGH</th>\n",
       "      <th>NEIGHBORHOOD</th>\n",
       "      <th>BUILDING CLASS CATEGORY</th>\n",
       "      <th>TAX CLASS AT PRESENT</th>\n",
       "      <th>BLOCK</th>\n",
       "      <th>LOT</th>\n",
       "      <th>BUILDING CLASS AT PRESENT</th>\n",
       "      <th>ADDRESS</th>\n",
       "      <th>APARTMENT NUMBER</th>\n",
       "      <th>ZIP CODE</th>\n",
       "      <th>RESIDENTIAL UNITS</th>\n",
       "      <th>COMMERCIAL UNITS</th>\n",
       "      <th>TOTAL UNITS</th>\n",
       "      <th>LAND SQUARE FEET</th>\n",
       "      <th>GROSS SQUARE FEET</th>\n",
       "      <th>YEAR BUILT</th>\n",
       "      <th>TAX CLASS AT TIME OF SALE</th>\n",
       "      <th>BUILDING CLASS AT TIME OF SALE</th>\n",
       "      <th>SALE PRICE</th>\n",
       "      <th>SALE DATE</th>\n",
       "    </tr>\n",
       "  </thead>\n",
       "  <tbody>\n",
       "    <tr>\n",
       "      <td>0</td>\n",
       "      <td>1</td>\n",
       "      <td>ALPHABET CITY</td>\n",
       "      <td>07 RENTALS - WALKUP APARTMENTS</td>\n",
       "      <td>2A</td>\n",
       "      <td>392</td>\n",
       "      <td>6</td>\n",
       "      <td>Other</td>\n",
       "      <td>153 AVENUE B</td>\n",
       "      <td>Missing</td>\n",
       "      <td>10009</td>\n",
       "      <td>5</td>\n",
       "      <td>0</td>\n",
       "      <td>5</td>\n",
       "      <td>1633.0</td>\n",
       "      <td>6440.0</td>\n",
       "      <td>1900</td>\n",
       "      <td>2</td>\n",
       "      <td>Other</td>\n",
       "      <td>6625000.0</td>\n",
       "      <td>2017-07-19</td>\n",
       "    </tr>\n",
       "    <tr>\n",
       "      <td>1</td>\n",
       "      <td>1</td>\n",
       "      <td>ALPHABET CITY</td>\n",
       "      <td>07 RENTALS - WALKUP APARTMENTS</td>\n",
       "      <td>2</td>\n",
       "      <td>399</td>\n",
       "      <td>26</td>\n",
       "      <td>Other</td>\n",
       "      <td>234 EAST 4TH   STREET</td>\n",
       "      <td>Missing</td>\n",
       "      <td>10009</td>\n",
       "      <td>28</td>\n",
       "      <td>3</td>\n",
       "      <td>31</td>\n",
       "      <td>4616.0</td>\n",
       "      <td>18690.0</td>\n",
       "      <td>1900</td>\n",
       "      <td>2</td>\n",
       "      <td>Other</td>\n",
       "      <td>0.0</td>\n",
       "      <td>2016-12-14</td>\n",
       "    </tr>\n",
       "    <tr>\n",
       "      <td>2</td>\n",
       "      <td>1</td>\n",
       "      <td>ALPHABET CITY</td>\n",
       "      <td>07 RENTALS - WALKUP APARTMENTS</td>\n",
       "      <td>2</td>\n",
       "      <td>399</td>\n",
       "      <td>39</td>\n",
       "      <td>Other</td>\n",
       "      <td>197 EAST 3RD   STREET</td>\n",
       "      <td>Missing</td>\n",
       "      <td>10009</td>\n",
       "      <td>16</td>\n",
       "      <td>1</td>\n",
       "      <td>17</td>\n",
       "      <td>2212.0</td>\n",
       "      <td>7803.0</td>\n",
       "      <td>1900</td>\n",
       "      <td>2</td>\n",
       "      <td>Other</td>\n",
       "      <td>0.0</td>\n",
       "      <td>2016-12-09</td>\n",
       "    </tr>\n",
       "    <tr>\n",
       "      <td>3</td>\n",
       "      <td>1</td>\n",
       "      <td>ALPHABET CITY</td>\n",
       "      <td>07 RENTALS - WALKUP APARTMENTS</td>\n",
       "      <td>2B &amp; 2C</td>\n",
       "      <td>402</td>\n",
       "      <td>21</td>\n",
       "      <td>Other</td>\n",
       "      <td>154 EAST 7TH STREET</td>\n",
       "      <td>Missing</td>\n",
       "      <td>10009</td>\n",
       "      <td>10</td>\n",
       "      <td>0</td>\n",
       "      <td>10</td>\n",
       "      <td>2272.0</td>\n",
       "      <td>6794.0</td>\n",
       "      <td>1913</td>\n",
       "      <td>2</td>\n",
       "      <td>Other</td>\n",
       "      <td>3936272.0</td>\n",
       "      <td>2016-09-23</td>\n",
       "    </tr>\n",
       "    <tr>\n",
       "      <td>4</td>\n",
       "      <td>1</td>\n",
       "      <td>ALPHABET CITY</td>\n",
       "      <td>07 RENTALS - WALKUP APARTMENTS</td>\n",
       "      <td>2A</td>\n",
       "      <td>404</td>\n",
       "      <td>55</td>\n",
       "      <td>Other</td>\n",
       "      <td>301 EAST 10TH   STREET</td>\n",
       "      <td>Missing</td>\n",
       "      <td>10009</td>\n",
       "      <td>6</td>\n",
       "      <td>0</td>\n",
       "      <td>6</td>\n",
       "      <td>2369.0</td>\n",
       "      <td>4615.0</td>\n",
       "      <td>1900</td>\n",
       "      <td>2</td>\n",
       "      <td>Other</td>\n",
       "      <td>8000000.0</td>\n",
       "      <td>2016-11-17</td>\n",
       "    </tr>\n",
       "  </tbody>\n",
       "</table>\n",
       "</div>"
      ],
      "text/plain": [
       "  BOROUGH   NEIGHBORHOOD                      BUILDING CLASS CATEGORY  \\\n",
       "0       1  ALPHABET CITY  07 RENTALS - WALKUP APARTMENTS                \n",
       "1       1  ALPHABET CITY  07 RENTALS - WALKUP APARTMENTS                \n",
       "2       1  ALPHABET CITY  07 RENTALS - WALKUP APARTMENTS                \n",
       "3       1  ALPHABET CITY  07 RENTALS - WALKUP APARTMENTS                \n",
       "4       1  ALPHABET CITY  07 RENTALS - WALKUP APARTMENTS                \n",
       "\n",
       "  TAX CLASS AT PRESENT  BLOCK  LOT BUILDING CLASS AT PRESENT  \\\n",
       "0                   2A    392    6                     Other   \n",
       "1                    2    399   26                     Other   \n",
       "2                    2    399   39                     Other   \n",
       "3              2B & 2C    402   21                     Other   \n",
       "4                   2A    404   55                     Other   \n",
       "\n",
       "                  ADDRESS APARTMENT NUMBER  ZIP CODE  RESIDENTIAL UNITS  \\\n",
       "0            153 AVENUE B          Missing     10009                  5   \n",
       "1   234 EAST 4TH   STREET          Missing     10009                 28   \n",
       "2   197 EAST 3RD   STREET          Missing     10009                 16   \n",
       "3     154 EAST 7TH STREET          Missing     10009                 10   \n",
       "4  301 EAST 10TH   STREET          Missing     10009                  6   \n",
       "\n",
       "   COMMERCIAL UNITS  TOTAL UNITS  LAND SQUARE FEET  GROSS SQUARE FEET  \\\n",
       "0                 0            5            1633.0             6440.0   \n",
       "1                 3           31            4616.0            18690.0   \n",
       "2                 1           17            2212.0             7803.0   \n",
       "3                 0           10            2272.0             6794.0   \n",
       "4                 0            6            2369.0             4615.0   \n",
       "\n",
       "   YEAR BUILT TAX CLASS AT TIME OF SALE BUILDING CLASS AT TIME OF SALE  \\\n",
       "0        1900                         2                          Other   \n",
       "1        1900                         2                          Other   \n",
       "2        1900                         2                          Other   \n",
       "3        1913                         2                          Other   \n",
       "4        1900                         2                          Other   \n",
       "\n",
       "   SALE PRICE  SALE DATE  \n",
       "0   6625000.0 2017-07-19  \n",
       "1         0.0 2016-12-14  \n",
       "2         0.0 2016-12-09  \n",
       "3   3936272.0 2016-09-23  \n",
       "4   8000000.0 2016-11-17  "
      ]
     },
     "execution_count": 83,
     "metadata": {},
     "output_type": "execute_result"
    }
   ],
   "source": [
    "my_data.head()"
   ]
  }
 ],
 "metadata": {
  "kernelspec": {
   "display_name": "Python 3",
   "language": "python",
   "name": "python3"
  },
  "language_info": {
   "codemirror_mode": {
    "name": "ipython",
    "version": 3
   },
   "file_extension": ".py",
   "mimetype": "text/x-python",
   "name": "python",
   "nbconvert_exporter": "python",
   "pygments_lexer": "ipython3",
   "version": "3.7.4"
  }
 },
 "nbformat": 4,
 "nbformat_minor": 4
}
